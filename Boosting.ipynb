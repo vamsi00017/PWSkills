{
  "nbformat": 4,
  "nbformat_minor": 0,
  "metadata": {
    "colab": {
      "provenance": [],
      "collapsed_sections": [
        "T18HwOPAjtLG"
      ]
    },
    "kernelspec": {
      "name": "python3",
      "display_name": "Python 3"
    },
    "language_info": {
      "name": "python"
    }
  },
  "cells": [
    {
      "cell_type": "markdown",
      "source": [
        "#Theoretical"
      ],
      "metadata": {
        "id": "T18HwOPAjtLG"
      }
    },
    {
      "cell_type": "markdown",
      "source": [
        "**1)What is Boosting in Machine Learning?**\n",
        "\n",
        "Ans)Boosting is an ensemble learning method that sequentially builds a strong learner from a series of weak learners. It works by training weak models in a sequence, where each new model corrects the errors of the previous ones, progressively reducing bias.\n",
        "\n",
        "**2)How does Boosting differ from Bagging?**\n",
        "\n",
        "Ans)Boosting trains models sequentially, focusing on misclassified instances from previous models to reduce bias. Bagging trains models independently and in parallel, then averages their predictions to reduce variance.\n",
        "\n",
        "**3)What is the key idea behind AdaBoost?**\n",
        "\n",
        "Ans)The key idea behind AdaBoost is to assign higher weights to misclassified samples at each iteration, forcing subsequent weak learners to focus more on these difficult examples. It then combines the weak learners' predictions using weights based on their accuracy.\n",
        "\n",
        "**4)Explain the working of AdaBoost with an example.**\n",
        "\n",
        "Ans)AdaBoost starts with equal weights for all samples. In each iteration, a weak learner is trained. Samples misclassified by this learner get increased weights for the next iteration. This process repeats, and the final prediction is a weighted sum of all weak learners' predictions.\n",
        "\n",
        "**5)What is Gradient Boosting, and how is it different from AdaBoost?**\n",
        "\n",
        "Ans)Gradient Boosting builds an ensemble of weak learners sequentially, where each new tree is trained to predict the residuals of the previous ensemble. AdaBoost focuses on re-weighting misclassified samples, while Gradient Boosting directly optimizes a loss function by predicting negative gradients.\n",
        "\n",
        "**6)What is the loss function in Gradient Boosting?**\n",
        "\n",
        "Ans)The loss function in Gradient Boosting is a differentiable function that quantifies the error between the predicted and actual values. Common choices include mean squared error for regression and log loss for classification.\n",
        "\n",
        "**7)How does XGBoost improve over traditional Gradient Boosting?**\n",
        "\n",
        "Ans)XGBoost improves traditional Gradient Boosting by incorporating regularization, handling missing values, allowing parallel processing during tree construction, and implementing tree pruning and an optimized objective function. It also offers flexibility in choosing objective functions.\n",
        "\n",
        "**8)What is the difference between XGBoost and CatBoost?**\n",
        "\n",
        "Ans)XGBoost is a general-purpose gradient boosting framework known for its speed and performance, requiring careful handling of categorical features. CatBoost is specifically designed to handle categorical features efficiently and automatically, using ordered boosting and novel categorical feature encoding schemes.\n",
        "\n",
        "**9)What are some real-world applications of Boosting techniques?**\n",
        "\n",
        "Ans)Boosting techniques are widely used in various applications like fraud detection, customer churn prediction, recommendation systems, medical diagnosis, spam detection, and image recognition, where high accuracy and predictive power are crucial.\n",
        "\n",
        "**10)How does regularization help in XGBoost?**\n",
        "\n",
        "Ans)Regularization in XGBoost helps prevent overfitting by penalizing complex models. L1 adds a penalty proportional to the absolute value of coefficients, encouraging sparsity. L2 adds a penalty proportional to the square of coefficients, shrinking them and making the model more robust.\n",
        "\n",
        "**11)What are some hyperparameters to tune in Gradient Boosting models?**\n",
        "\n",
        "Ans)Key hyperparameters to tune in Gradient Boosting include n_estimators, learning_rate, max_depth, subsample, and colsample_bytree.\n",
        "\n",
        "**12)What is the concept of Feature Importance in Boosting?**\n",
        "\n",
        "Ans)Feature Importance in Boosting quantifies the contribution of each feature to the model's predictions. It's often calculated based on how many times a feature is used in splits across all trees in the ensemble or by the gain in purity it provides.\n",
        "\n",
        "**13)Why is CatBoost efficient for categorical data?**\n",
        "\n",
        "Ans)CatBoost is efficient for categorical data because it incorporates novel techniques like ordered boosting and ordered target encoding. It handles categorical features directly without requiring extensive preprocessing, reducing information loss and improving model performance."
      ],
      "metadata": {
        "id": "_A7afdY_koVL"
      }
    },
    {
      "cell_type": "markdown",
      "source": [
        "#Practical"
      ],
      "metadata": {
        "id": "tvspbuM1jzi9"
      }
    },
    {
      "cell_type": "code",
      "source": [
        "!pip install catboost"
      ],
      "metadata": {
        "colab": {
          "base_uri": "https://localhost:8080/"
        },
        "id": "N6jgj3gqgTWM",
        "outputId": "78fbe1b4-d6c7-4e13-da90-6fcd62f2fc9b"
      },
      "execution_count": null,
      "outputs": [
        {
          "output_type": "stream",
          "name": "stdout",
          "text": [
            "Collecting catboost\n",
            "  Downloading catboost-1.2.8-cp311-cp311-manylinux2014_x86_64.whl.metadata (1.2 kB)\n",
            "Requirement already satisfied: graphviz in /usr/local/lib/python3.11/dist-packages (from catboost) (0.20.3)\n",
            "Requirement already satisfied: matplotlib in /usr/local/lib/python3.11/dist-packages (from catboost) (3.10.0)\n",
            "Requirement already satisfied: numpy<3.0,>=1.16.0 in /usr/local/lib/python3.11/dist-packages (from catboost) (2.0.2)\n",
            "Requirement already satisfied: pandas>=0.24 in /usr/local/lib/python3.11/dist-packages (from catboost) (2.2.2)\n",
            "Requirement already satisfied: scipy in /usr/local/lib/python3.11/dist-packages (from catboost) (1.15.3)\n",
            "Requirement already satisfied: plotly in /usr/local/lib/python3.11/dist-packages (from catboost) (5.24.1)\n",
            "Requirement already satisfied: six in /usr/local/lib/python3.11/dist-packages (from catboost) (1.17.0)\n",
            "Requirement already satisfied: python-dateutil>=2.8.2 in /usr/local/lib/python3.11/dist-packages (from pandas>=0.24->catboost) (2.9.0.post0)\n",
            "Requirement already satisfied: pytz>=2020.1 in /usr/local/lib/python3.11/dist-packages (from pandas>=0.24->catboost) (2025.2)\n",
            "Requirement already satisfied: tzdata>=2022.7 in /usr/local/lib/python3.11/dist-packages (from pandas>=0.24->catboost) (2025.2)\n",
            "Requirement already satisfied: contourpy>=1.0.1 in /usr/local/lib/python3.11/dist-packages (from matplotlib->catboost) (1.3.2)\n",
            "Requirement already satisfied: cycler>=0.10 in /usr/local/lib/python3.11/dist-packages (from matplotlib->catboost) (0.12.1)\n",
            "Requirement already satisfied: fonttools>=4.22.0 in /usr/local/lib/python3.11/dist-packages (from matplotlib->catboost) (4.58.0)\n",
            "Requirement already satisfied: kiwisolver>=1.3.1 in /usr/local/lib/python3.11/dist-packages (from matplotlib->catboost) (1.4.8)\n",
            "Requirement already satisfied: packaging>=20.0 in /usr/local/lib/python3.11/dist-packages (from matplotlib->catboost) (24.2)\n",
            "Requirement already satisfied: pillow>=8 in /usr/local/lib/python3.11/dist-packages (from matplotlib->catboost) (11.2.1)\n",
            "Requirement already satisfied: pyparsing>=2.3.1 in /usr/local/lib/python3.11/dist-packages (from matplotlib->catboost) (3.2.3)\n",
            "Requirement already satisfied: tenacity>=6.2.0 in /usr/local/lib/python3.11/dist-packages (from plotly->catboost) (9.1.2)\n",
            "Downloading catboost-1.2.8-cp311-cp311-manylinux2014_x86_64.whl (99.2 MB)\n",
            "\u001b[2K   \u001b[90m━━━━━━━━━━━━━━━━━━━━━━━━━━━━━━━━━━━━━━━━\u001b[0m \u001b[32m99.2/99.2 MB\u001b[0m \u001b[31m6.5 MB/s\u001b[0m eta \u001b[36m0:00:00\u001b[0m\n",
            "\u001b[?25hInstalling collected packages: catboost\n",
            "Successfully installed catboost-1.2.8\n"
          ]
        }
      ]
    },
    {
      "cell_type": "markdown",
      "source": [
        "**14)Train an AdaBoost Classifier on a sample dataset and print model accuracy?**"
      ],
      "metadata": {
        "id": "MnbEyXqfxPtk"
      }
    },
    {
      "cell_type": "code",
      "source": [
        "import numpy as np\n",
        "from sklearn.ensemble import AdaBoostClassifier\n",
        "from sklearn.tree import DecisionTreeClassifier\n",
        "from sklearn.datasets import load_breast_cancer\n",
        "from sklearn.model_selection import train_test_split\n",
        "from sklearn.metrics import accuracy_score\n",
        "data = load_breast_cancer()\n",
        "X, y = data.data, data.target\n",
        "X_train, X_test, y_train, y_test = train_test_split(X, y, test_size=0.2, random_state=42)\n",
        "base_estimator_ada = DecisionTreeClassifier(max_depth=1, random_state=42)\n",
        "adaboost_clf = AdaBoostClassifier(estimator=base_estimator_ada, n_estimators=100, random_state=42)\n",
        "adaboost_clf.fit(X_train, y_train)\n",
        "y_pred_ada = adaboost_clf.predict(X_test)\n",
        "accuracy_ada = accuracy_score(y_test, y_pred_ada)\n",
        "print(f\"AdaBoost Classifier Accuracy: {accuracy_ada:.3f}\")"
      ],
      "metadata": {
        "colab": {
          "base_uri": "https://localhost:8080/"
        },
        "id": "xo91zIV9w-lB",
        "outputId": "2f6bf308-021c-4534-c33a-8336c6db4601"
      },
      "execution_count": null,
      "outputs": [
        {
          "output_type": "stream",
          "name": "stdout",
          "text": [
            "AdaBoost Classifier Accuracy: 0.974\n"
          ]
        }
      ]
    },
    {
      "cell_type": "markdown",
      "source": [
        "**15)Train an AdaBoost Regressor and evaluate performance using Mean Absolute Error (MAE)?**"
      ],
      "metadata": {
        "id": "eGxAWRMSy7Lo"
      }
    },
    {
      "cell_type": "code",
      "source": [
        "from sklearn.ensemble import AdaBoostRegressor\n",
        "from sklearn.datasets import make_regression\n",
        "from sklearn.metrics import mean_absolute_error\n",
        "\n",
        "X_reg, y_reg = make_regression(n_samples=1000, n_features=10, random_state=42)\n",
        "X_train_reg, X_test_reg, y_train_reg, y_test_reg = train_test_split(X_reg, y_reg, test_size=0.2, random_state=42)\n",
        "ada_reg = AdaBoostRegressor(n_estimators=50, random_state=42)\n",
        "ada_reg.fit(X_train_reg, y_train_reg)\n",
        "print(\"AdaBoost MAE:\", mean_absolute_error(y_test_reg, ada_reg.predict(X_test_reg)))"
      ],
      "metadata": {
        "colab": {
          "base_uri": "https://localhost:8080/"
        },
        "id": "0xRS5QU0xkO1",
        "outputId": "ae064f4d-d507-4a8b-ce96-e5aaa753af0b"
      },
      "execution_count": null,
      "outputs": [
        {
          "output_type": "stream",
          "name": "stdout",
          "text": [
            "AdaBoost MAE: 52.76212987370456\n"
          ]
        }
      ]
    },
    {
      "cell_type": "markdown",
      "source": [
        "**16)Train a Gradient Boosting Classifier on the Breast Cancer dataset and print feature importance?**"
      ],
      "metadata": {
        "id": "s3-yyjaeapQA"
      }
    },
    {
      "cell_type": "code",
      "source": [
        "from sklearn.ensemble import GradientBoostingClassifier\n",
        "from sklearn.datasets import load_breast_cancer\n",
        "from sklearn.model_selection import train_test_split\n",
        "cancer_data = load_breast_cancer()\n",
        "X, y = cancer_data.data, cancer_data.target\n",
        "X_train, X_test, y_train, y_test = train_test_split(X, y, test_size=0.2, random_state=42)\n",
        "gbclf = GradientBoostingClassifier(n_estimators=100, random_state=42)\n",
        "gbclf.fit(X_train, y_train)\n",
        "print(\"Gradient Boosting Accuracy:\", accuracy_score(y_test, gbclf.predict(X_test)))"
      ],
      "metadata": {
        "id": "-8vYeBJ0zOos",
        "colab": {
          "base_uri": "https://localhost:8080/"
        },
        "outputId": "a395626d-a381-4f90-fa76-165bb8fb3499"
      },
      "execution_count": null,
      "outputs": [
        {
          "output_type": "stream",
          "name": "stdout",
          "text": [
            "Gradient Boosting Accuracy: 0.956140350877193\n"
          ]
        }
      ]
    },
    {
      "cell_type": "markdown",
      "source": [
        "**17)Train a Gradient Boosting Regressor and evaluate using R-Squared Score?**"
      ],
      "metadata": {
        "id": "DiXvK1ShdbKz"
      }
    },
    {
      "cell_type": "code",
      "source": [
        "from sklearn.ensemble import GradientBoostingRegressor\n",
        "from sklearn.metrics import r2_score\n",
        "\n",
        "gbreg = GradientBoostingRegressor(n_estimators=100, random_state=42)\n",
        "gbreg.fit(X_train_reg, y_train_reg)\n",
        "print(\"Gradient Boosting R-Squared:\", r2_score(y_test_reg, gbreg.predict(X_test_reg)))"
      ],
      "metadata": {
        "colab": {
          "base_uri": "https://localhost:8080/"
        },
        "id": "QbHDgEijbIkk",
        "outputId": "f30236a7-5423-444a-ba38-19a617b28047"
      },
      "execution_count": null,
      "outputs": [
        {
          "output_type": "stream",
          "name": "stdout",
          "text": [
            "Gradient Boosting R-Squared: 0.9194284378734666\n"
          ]
        }
      ]
    },
    {
      "cell_type": "markdown",
      "source": [
        "**18)Train an XGBoost Classifier on a dataset and compare accuracy with Gradient Boosting?**"
      ],
      "metadata": {
        "id": "gJcJeqzTexeE"
      }
    },
    {
      "cell_type": "code",
      "source": [
        "from xgboost import XGBClassifier\n",
        "import warnings\n",
        "warnings.filterwarnings('ignore')\n",
        "\n",
        "xgbclf = XGBClassifier(n_estimators=100, use_label_encoder=False, eval_metric='logloss')\n",
        "xgbclf.fit(X_train, y_train)\n",
        "print(\"XGBoost Accuracy:\", accuracy_score(y_test, xgbclf.predict(X_test)))"
      ],
      "metadata": {
        "colab": {
          "base_uri": "https://localhost:8080/"
        },
        "id": "t3fpipUCeCpY",
        "outputId": "1e35b8fd-9efd-4672-eb28-a73bfe6c265b"
      },
      "execution_count": null,
      "outputs": [
        {
          "output_type": "stream",
          "name": "stdout",
          "text": [
            "XGBoost Accuracy: 0.956140350877193\n"
          ]
        }
      ]
    },
    {
      "cell_type": "markdown",
      "source": [
        "**19)Train a CatBoost Classifier and evaluate using F1-Score?**"
      ],
      "metadata": {
        "id": "zxa77IXpf8I7"
      }
    },
    {
      "cell_type": "code",
      "source": [
        "from catboost import CatBoostClassifier\n",
        "from sklearn.metrics import f1_score\n",
        "\n",
        "catclf = CatBoostClassifier(iterations=100, verbose=False)\n",
        "catclf.fit(X_train, y_train)\n",
        "print(\"CatBoost F1 Score:\", f1_score(y_test, catclf.predict(X_test)))"
      ],
      "metadata": {
        "colab": {
          "base_uri": "https://localhost:8080/"
        },
        "id": "HAymFCc7fbgz",
        "outputId": "47494681-0dbe-42d0-e0e5-fda9ca67b113"
      },
      "execution_count": null,
      "outputs": [
        {
          "output_type": "stream",
          "name": "stdout",
          "text": [
            "CatBoost F1 Score: 0.9722222222222222\n"
          ]
        }
      ]
    },
    {
      "cell_type": "markdown",
      "source": [
        "**20)Train an XGBoost Regressor and evaluate using Mean Squared Error (MSE)?**"
      ],
      "metadata": {
        "id": "Bv0dF5nOht7l"
      }
    },
    {
      "cell_type": "code",
      "source": [
        "from xgboost import XGBRegressor\n",
        "from sklearn.metrics import mean_squared_error\n",
        "\n",
        "xgbreg = XGBRegressor(n_estimators=100)\n",
        "xgbreg.fit(X_train_reg, y_train_reg)\n",
        "print(\"XGBoost MSE:\", mean_squared_error(y_test_reg, xgbreg.predict(X_test_reg)))"
      ],
      "metadata": {
        "colab": {
          "base_uri": "https://localhost:8080/"
        },
        "id": "s1WljA9RgPCW",
        "outputId": "7c16ef64-7992-4ff1-8838-24a359cddf2a"
      },
      "execution_count": null,
      "outputs": [
        {
          "output_type": "stream",
          "name": "stdout",
          "text": [
            "XGBoost MSE: 2205.7439569664366\n"
          ]
        }
      ]
    },
    {
      "cell_type": "markdown",
      "source": [
        "**21)Train an AdaBoost Classifier and visualize feature importance?**"
      ],
      "metadata": {
        "id": "NGlZJnniibND"
      }
    },
    {
      "cell_type": "code",
      "source": [
        "import matplotlib.pyplot as plt\n",
        "\n",
        "plt.bar(range(len(adaboost_clf.feature_importances_)), adaboost_clf.feature_importances_)\n",
        "plt.xlabel(\"Feature Index\")\n",
        "plt.ylabel(\"Importance\")\n",
        "plt.title(\"Feature Importance in AdaBoost\")\n",
        "plt.show()"
      ],
      "metadata": {
        "colab": {
          "base_uri": "https://localhost:8080/",
          "height": 472
        },
        "id": "O5XjChqLiWS_",
        "outputId": "7a8ee305-b48b-4a16-998a-cfb223a9704d"
      },
      "execution_count": null,
      "outputs": [
        {
          "output_type": "display_data",
          "data": {
            "text/plain": [
              "<Figure size 640x480 with 1 Axes>"
            ],
            "image/png": "[encoded data removed]"
          },
          "metadata": {}
        }
      ]
    },
    {
      "cell_type": "markdown",
      "source": [
        "**22)Train a Gradient Boosting Regressor and plot learning curves?**"
      ],
      "metadata": {
        "id": "kV1ugDxpjRDP"
      }
    },
    {
      "cell_type": "code",
      "source": [
        "import numpy as np\n",
        "\n",
        "train_sizes = np.linspace(0.1, 0.9, 10)\n",
        "train_scores, test_scores = [], []\n",
        "\n",
        "for size in train_sizes:\n",
        "    X_train_small, _, y_train_small, _ = train_test_split(X_train_reg, y_train_reg, train_size=size, random_state=42)\n",
        "    gbreg.fit(X_train_small, y_train_small)\n",
        "    train_scores.append(gbreg.score(X_train_small, y_train_small))\n",
        "    test_scores.append(gbreg.score(X_test_reg, y_test_reg))\n",
        "plt.plot(train_sizes, train_scores, label=\"Train S\")\n",
        "plt.plot(train_sizes, test_scores, label=\"Test Score\")\n",
        "plt.xlabel(\"Training Size\")\n",
        "plt.ylabel(\"Score\")\n",
        "plt.legend()\n",
        "plt.show()"
      ],
      "metadata": {
        "id": "x1TkCh6iisk_",
        "colab": {
          "base_uri": "https://localhost:8080/",
          "height": 449
        },
        "outputId": "ad544ca2-679f-4b30-f061-8997b7092997"
      },
      "execution_count": null,
      "outputs": [
        {
          "output_type": "display_data",
          "data": {
            "text/plain": [
              "<Figure size 640x480 with 1 Axes>"
            ],
            "image/png": "[encoded data removed]"
          },
          "metadata": {}
        }
      ]
    },
    {
      "cell_type": "markdown",
      "source": [
        "**23)Train an XGBoost Classifier and visualize feature importance?**"
      ],
      "metadata": {
        "id": "rsRXnRjb-D18"
      }
    },
    {
      "cell_type": "code",
      "source": [
        "xgbimportance = xgbclf.feature_importances_\n",
        "plt.bar(range(len(xgbimportance)), xgbimportance)\n",
        "plt.title(\"Feature Importance in XGBoost\")\n",
        "plt.show()"
      ],
      "metadata": {
        "colab": {
          "base_uri": "https://localhost:8080/",
          "height": 452
        },
        "id": "xcW9TAB39hyH",
        "outputId": "0675d540-1d57-423e-81c0-19de6c8c203d"
      },
      "execution_count": null,
      "outputs": [
        {
          "output_type": "display_data",
          "data": {
            "text/plain": [
              "<Figure size 640x480 with 1 Axes>"
            ],
            "image/png": "[encoded data removed]"
          },
          "metadata": {}
        }
      ]
    },
    {
      "cell_type": "markdown",
      "source": [
        "**24)Train a CatBoost Classifier and plot the confusion matrix?**"
      ],
      "metadata": {
        "id": "Da8PtQEN-cug"
      }
    },
    {
      "cell_type": "code",
      "source": [
        "from sklearn.metrics import confusion_matrix\n",
        "import seaborn as sns\n",
        "\n",
        "cm = confusion_matrix(y_test, catclf.predict(X_test))\n",
        "sns.heatmap(cm, annot=True, fmt=\"d\")\n",
        "plt.title(\"Confusion Matrix - CatBoost\")\n",
        "plt.show()"
      ],
      "metadata": {
        "colab": {
          "base_uri": "https://localhost:8080/",
          "height": 452
        },
        "id": "zKTYv0XS-TX_",
        "outputId": "488827cb-8d82-45ef-d4e2-07633cf0a7fa"
      },
      "execution_count": null,
      "outputs": [
        {
          "output_type": "display_data",
          "data": {
            "text/plain": [
              "<Figure size 640x480 with 2 Axes>"
            ],
            "image/png": "[encoded data removed]"
          },
          "metadata": {}
        }
      ]
    },
    {
      "cell_type": "markdown",
      "source": [
        "**25)Train an AdaBoost Classifier with different numbers of estimators and compare accuracy?**"
      ],
      "metadata": {
        "id": "F0D-9zoe_NKR"
      }
    },
    {
      "cell_type": "code",
      "source": [
        "for n in [10, 50, 100, 200]:\n",
        "    model = AdaBoostClassifier(n_estimators=n, random_state=42)\n",
        "    model.fit(X_train, y_train)\n",
        "    print(f\"Estimators: {n}, Accuracy: {accuracy_score(y_test, model.predict(X_test))}\")"
      ],
      "metadata": {
        "colab": {
          "base_uri": "https://localhost:8080/"
        },
        "id": "iMw8UxXI-mFv",
        "outputId": "94813ce8-7fa1-4990-e98a-c536a729be3d"
      },
      "execution_count": null,
      "outputs": [
        {
          "output_type": "stream",
          "name": "stdout",
          "text": [
            "Estimators: 10, Accuracy: 0.9649122807017544\n",
            "Estimators: 50, Accuracy: 0.9649122807017544\n",
            "Estimators: 100, Accuracy: 0.9736842105263158\n",
            "Estimators: 200, Accuracy: 0.9736842105263158\n"
          ]
        }
      ]
    },
    {
      "cell_type": "markdown",
      "source": [
        "**26)Train a Gradient Boosting Classifier and visualize the ROC curve?**"
      ],
      "metadata": {
        "id": "fa-EaBWm_jr_"
      }
    },
    {
      "cell_type": "code",
      "source": [
        "from sklearn.metrics import roc_curve, auc\n",
        "\n",
        "y_scores = gbclf.predict_proba(X_test)[:, 1]\n",
        "fpr, tpr, _ = roc_curve(y_test, y_scores)\n",
        "roc_auc = auc(fpr, tpr)\n",
        "plt.plot(fpr, tpr, label=f\"26. AUC = {roc_auc:.2f}\")\n",
        "plt.xlabel(\"False Positive Rate\")\n",
        "plt.ylabel(\"True Positive Rate\")\n",
        "plt.legend()\n",
        "plt.show()"
      ],
      "metadata": {
        "colab": {
          "base_uri": "https://localhost:8080/",
          "height": 449
        },
        "id": "IMYd_Ew6_aBB",
        "outputId": "1eb9d7ea-e2f6-41a4-8ed6-334d8a4b8281"
      },
      "execution_count": null,
      "outputs": [
        {
          "output_type": "display_data",
          "data": {
            "text/plain": [
              "<Figure size 640x480 with 1 Axes>"
            ],
            "image/png": "[encoded data removed]"
          },
          "metadata": {}
        }
      ]
    },
    {
      "cell_type": "markdown",
      "source": [
        "**27)Train an XGBoost Regressor and tune the learning rate using GridSearchCV?**"
      ],
      "metadata": {
        "id": "uZf6tmKOAEGp"
      }
    },
    {
      "cell_type": "code",
      "source": [
        "from sklearn.model_selection import GridSearchCV\n",
        "\n",
        "param_grid = {'learning_rate': [0.01, 0.1, 0.2]}\n",
        "grid_search = GridSearchCV(XGBRegressor(n_estimators=100), param_grid, cv=3)\n",
        "grid_search.fit(X_train_reg, y_train_reg)\n",
        "print(\"Best Learning Rate:\", grid_search.best_params_['learning_rate'])"
      ],
      "metadata": {
        "colab": {
          "base_uri": "https://localhost:8080/"
        },
        "id": "PbXfQbUQ_vOn",
        "outputId": "955776ad-b662-4d2b-803b-1ac33ccd9abc"
      },
      "execution_count": null,
      "outputs": [
        {
          "output_type": "stream",
          "name": "stdout",
          "text": [
            "Best Learning Rate: 0.1\n"
          ]
        }
      ]
    },
    {
      "cell_type": "markdown",
      "source": [
        "**28)Train a CatBoost Classifier on an imbalanced dataset and compare performance with class weighting?**"
      ],
      "metadata": {
        "id": "nj6OtRbKAmD6"
      }
    },
    {
      "cell_type": "code",
      "source": [
        "cat_clf_balanced = CatBoostClassifier(class_weights=[1, 3], iterations=100, verbose=False)\n",
        "cat_clf_balanced.fit(X_train, y_train)\n",
        "print(\"Balanced F1 Score:\", f1_score(y_test, cat_clf_balanced.predict(X_test)))"
      ],
      "metadata": {
        "colab": {
          "base_uri": "https://localhost:8080/"
        },
        "id": "IR4VmnqpAT72",
        "outputId": "11f7bb05-3788-4225-9867-f15b276aa68b"
      },
      "execution_count": null,
      "outputs": [
        {
          "output_type": "stream",
          "name": "stdout",
          "text": [
            "Balanced F1 Score: 0.9722222222222222\n"
          ]
        }
      ]
    },
    {
      "cell_type": "markdown",
      "source": [
        "**29)Train an AdaBoost Classifier and analyze the effect of different learning rates?**"
      ],
      "metadata": {
        "id": "6WpBzWYvCcfv"
      }
    },
    {
      "cell_type": "code",
      "source": [
        "for lr in [0.01, 0.1, 0.5, 1]:\n",
        "    model = AdaBoostClassifier(learning_rate=lr, random_state=42)\n",
        "    model.fit(X_train, y_train)\n",
        "    print(f\"Learning Rate: {lr}, Accuracy: {accuracy_score(y_test, model.predict(X_test))}\")"
      ],
      "metadata": {
        "colab": {
          "base_uri": "https://localhost:8080/"
        },
        "id": "NZtCM1qECLXU",
        "outputId": "a934f58a-dd2c-4755-f3a0-7a0771b4fa90"
      },
      "execution_count": null,
      "outputs": [
        {
          "output_type": "stream",
          "name": "stdout",
          "text": [
            "Learning Rate: 0.01, Accuracy: 0.9385964912280702\n",
            "Learning Rate: 0.1, Accuracy: 0.956140350877193\n",
            "Learning Rate: 0.5, Accuracy: 0.9649122807017544\n",
            "Learning Rate: 1, Accuracy: 0.9649122807017544\n"
          ]
        }
      ]
    },
    {
      "cell_type": "markdown",
      "source": [
        "**30)Train an XGBoost Classifier for multi-class classification and evaluate using log-loss?**"
      ],
      "metadata": {
        "id": "97r7OAT_CzBH"
      }
    },
    {
      "cell_type": "code",
      "source": [
        "from sklearn.metrics import log_loss\n",
        "\n",
        "xgb_multi = XGBClassifier(objective=\"binary:logistic\", eval_metric=\"logloss\")\n",
        "xgb_multi.fit(X_train, y_train)\n",
        "print(\"Log Loss:\", log_loss(y_test, xgb_multi.predict_proba(X_test)))"
      ],
      "metadata": {
        "colab": {
          "base_uri": "https://localhost:8080/"
        },
        "id": "sslqmRWeCpYw",
        "outputId": "666ca4ae-641b-41c8-e16d-17ecdbd5abb6"
      },
      "execution_count": null,
      "outputs": [
        {
          "output_type": "stream",
          "name": "stdout",
          "text": [
            "Log Loss: 0.12201097351759238\n"
          ]
        }
      ]
    },
    {
      "cell_type": "code",
      "source": [],
      "metadata": {
        "id": "C-HwEo67C7gd"
      },
      "execution_count": null,
      "outputs": []
    }
  ]
}