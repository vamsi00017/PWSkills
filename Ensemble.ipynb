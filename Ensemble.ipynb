{
  "nbformat": 4,
  "nbformat_minor": 0,
  "metadata": {
    "colab": {
      "provenance": []
    },
    "kernelspec": {
      "name": "python3",
      "display_name": "Python 3"
    },
    "language_info": {
      "name": "python"
    }
  },
  "cells": [
    {
      "cell_type": "markdown",
      "source": [
        "#Theoretical"
      ],
      "metadata": {
        "id": "czWYqQ6a13it"
      }
    },
    {
      "cell_type": "markdown",
      "source": [
        "**1)Can we use Bagging for regression problems?**\n",
        "\n",
        "Ans) Yes, Bagging can be effectively used for regression problems. Instead of taking a majority vote for classification, Bagging for regression involves averaging the predictions of individual base regressors to produce the final output.\n",
        "\n",
        "**2)What is the difference between multiple model training and single model training?**\n",
        "\n",
        "Ans) Single model training involves fitting one machine learning algorithm to the entire dataset. Multiple model training, often seen in ensemble methods, involves training several individual models on the data, and then combining their predictions to achieve a more robust and often more accurate final prediction.\n",
        "\n",
        "**3)Explain the concept of feature randomness in Random Forest?**\n",
        "\n",
        "Ans) Feature randomness in Random Forest means that at each node of a Decision Tree, only a random subset of features is considered for splitting, rather than all available features. This decorrelates the trees, making them more diverse and reducing the variance of the ensemble.\n",
        "\n",
        "**4)What is OOB (Out-of-Bag) Score?**\n",
        "\n",
        "Ans) The Out-of-Bag score is an internal cross-validation estimate used in Bagging algorithms like Random Forest. Since each base learner is trained on a bootstrap sample. These OOB samples can be used to evaluate the performance of the ensemble without needing a separate validation set, providing a reliable estimate of generalization error.\n",
        "\n",
        "**5)How can you measure the importance of features in a Random Forest model?**\n",
        "\n",
        "Ans) Feature importance in a Random Forest is typically measured by the average decrease in impurity across all trees in the forest, or by the average decrease in accuracy on out-of-bag samples when a feature's values are permuted. Features that contribute more to reducing impurity or maintaining accuracy are considered more important.\n",
        "\n",
        "**6)Explain the working principle of a Bagging Classifier?**\n",
        "\n",
        "Ans) A Bagging Classifier works by training multiple base classifiers independently on different bootstrap samples (random samples with replacement) of the original training data. For prediction, it aggregates the outputs of these individual classifiers, typically by taking a majority vote for classification tasks. This process reduces variance and helps prevent overfitting.\n",
        "\n",
        "**7)How do you evaluate a Bagging Classifier’s performance?**\n",
        "\n",
        "Ans) A Bagging Classifier's performance can be evaluated using standard metrics like accuracy, precision, recall, F1-score, or ROC AUC on a separate test set. Additionally, the OOB score provides an internal, unbiased estimate of the model's generalization performance without requiring a dedicated validation set.\n",
        "\n",
        "**8)How does a Bagging Regressor work?**\n",
        "\n",
        "Ans) A Bagging Regressor works similarly to a Bagging Classifier, but for continuous target variables. It trains multiple base regressors on different bootstrap samples of the training data. For prediction, it aggregates the outputs of these individual regressors by averaging their predictions. This helps to reduce variance and improve the stability of the regression model.\n",
        "\n",
        "**9)What is the main advantage of ensemble techniques?**\n",
        "\n",
        "Ans) The main advantage of ensemble techniques is their ability to significantly improve prediction accuracy and model robustness compared to single models. By combining multiple diverse models, ensembles can reduce variance, bias, or both, leading to better generalization performance on unseen data.\n",
        "\n",
        "**10)What is the main challenge of ensemble methods?**\n",
        "\n",
        "Ans) The main challenge of ensemble methods is often their interpretability. While they achieve high performance, understanding the decision-making process of a complex ensemble of many models can be difficult, making them \"black-box\" models in many applications. Increased computational cost and memory usage are also common challenges.\n",
        "\n",
        "**11)Explain the key idea behind ensemble techniques?**\n",
        "\n",
        "Ans) The key idea behind ensemble techniques is to combine the predictions of multiple individual machine learning models to create a single, more powerful model. The rationale is that a group of \"wise\" models, even if individually imperfect, can make more accurate and robust predictions than any single model alone.\n",
        "\n",
        "**12)What is a Random Forest Classifier?**\n",
        "\n",
        "Ans) A Random Forest Classifier is an ensemble learning method that builds multiple Decision Trees during training and outputs the class that is the mode of the classes of the individual trees. It introduces randomness both through bootstrap sampling of data and feature subsampling at each split, leading to a diverse and robust forest of trees.\n",
        "\n",
        "**13)What are the main types of ensemble techniques?**\n",
        "\n",
        "Ans) The main types of ensemble techniques are:\n",
        "Bagging: Builds multiple models independently on different bootstrap samples of the data and averages their predictions.\n",
        "Boosting: Builds models sequentially, where each new model tries to correct the errors of the previous ones.\n",
        "Stacking: Combines predictions from multiple diverse models using another meta-modelto make the final prediction.\n",
        "\n",
        "**14)What is ensemble learning in machine learning?**\n",
        "\n",
        "Ans) Ensemble learning is a machine learning paradigm where multiple models are trained to solve a particular problem. Unlike traditional single models, ensemble methods combine the outputs of several base learners, often of the same type but trained differently, to produce a more accurate and robust prediction than any single model could achieve.\n",
        "\n",
        "**15)When should we avoid using ensemble methods?**\n",
        "\n",
        "Ans)\n",
        "Interpretability is paramount: Ensembles are often \"black boxes\" and difficult to explain.\n",
        "Computational resources are severely limited: Training and predicting with multiple models can be resource-intensive.\n",
        "The base models are already performing exceptionally well: The marginal gain might not justify the added complexity.\n",
        "Real-time prediction speed is critical: Ensembles can be slower for inference due to multiple predictions.\n",
        "\n",
        "**16)How does Bagging help in reducing overfitting?**\n",
        "\n",
        "Ans) Bagging helps reduce overfitting primarily by reducing variance. By training multiple models on different bootstrap samples of the data, it creates diverse base learners. When their predictions are averaged, the individual errors and biases of single models tend to cancel each other out, leading to a more stable and generalized overall prediction that is less sensitive to the noise in the training data.\n",
        "\n",
        "\n",
        "**17)Why is Random Forest better than a single Decision Tree?**\n",
        "\n",
        "Ans) Random Forest is generally better than a single Decision Tree because it addresses the Decision Tree's main weaknesses overfitting and instability. By combining multiple Decision Trees and introducing feature randomness at each split,Reduces variance by Averaging multiple diverse trees smooths out individual tree errors.Reduces overfitting by The randomness makes trees less correlated, preventing them from memorizing the training data too closely.It's less sensitive to noise or outliers in the data.\n",
        "\n",
        "**18)What is the role of bootstrap sampling in Bagging?**\n",
        "\n",
        "Ans) Bootstrap sampling is a core component of Bagging. It involves creating multiple subsets of the original training data by randomly sampling with replacement. Each base learner in the Bagging ensemble is then trained on one of these unique bootstrap samples. This process ensures diversity among the base learners, as each sees a slightly different version of the training data, which is crucial for reducing variance and improving the ensemble's overall performance.\n",
        "\n",
        "\n",
        "\n",
        "**19)What are some real-world applications of ensemble techniques?**\n",
        "\n",
        "Ans) Ensemble techniques are widely used in real-world applications like Fraud Detection,Medical Diagnosis,Image and Speech Recognition,Recommendation Systems,Financial Modeling,Customer Churn Prediction\n",
        "\n",
        "**20)What is the difference between Bagging and Boosting?**\n",
        "\n",
        " Ans)\n",
        "In Bagging Base learners are trained independently and in parallel.Diversity is Achieved through bootstrap sampling of data and sometimes feature subsampling.\n",
        "Reduces variance, preventing overfitting.And Each base learner has equal weight in the final prediction.\n",
        "In Boosting Base learners are trained sequentially, where each new learner focuses on correcting the errors of the previous ones.Diversity is Achieved by weighting misclassified samples more heavily or fitting to residuals.Reduces bias, converting weak learners into strong ones.And Base learners are weighted based on their performance, with better-performing learners having more influence."
      ],
      "metadata": {
        "id": "YKaZq5VZ2PwS"
      }
    },
    {
      "cell_type": "markdown",
      "source": [
        "#Practical"
      ],
      "metadata": {
        "id": "n-_puHCc2LVb"
      }
    },
    {
      "cell_type": "markdown",
      "source": [
        "**21)Train a Bagging Classifier using Decision Trees on a sample dataset and print model accuracy?**"
      ],
      "metadata": {
        "id": "vSCcvIa3wFiM"
      }
    },
    {
      "cell_type": "code",
      "source": [
        "from sklearn.tree import DecisionTreeClassifier, DecisionTreeRegressor\n",
        "from sklearn.svm import SVC\n",
        "from sklearn.linear_model import LogisticRegression\n",
        "from sklearn.ensemble import RandomForestClassifier\n",
        "from sklearn.datasets import make_classification, make_regression\n",
        "from sklearn.model_selection import train_test_split\n",
        "from sklearn.metrics import accuracy_score, mean_squared_error, roc_auc_score\n",
        "from sklearn.ensemble import BaggingClassifier, BaggingRegressor\n",
        "\n",
        "X, y = make_classification(n_samples=1000, n_features=20, random_state=42)\n",
        "X_train, X_test, y_train, y_test = train_test_split(X, y, test_size=0.2, random_state=42)\n",
        "bagging = BaggingClassifier(estimator=DecisionTreeClassifier(), n_estimators=10, random_state=42)\n",
        "bagging.fit(X_train, y_train)\n",
        "print(\"Bagging Classifier Accuracy:\", accuracy_score(y_test, bagging.predict(X_test)))"
      ],
      "metadata": {
        "colab": {
          "base_uri": "https://localhost:8080/"
        },
        "id": "W1uBIsdb4vOS",
        "outputId": "ccc62c90-6607-4a32-9865-c6480bda8b8d"
      },
      "execution_count": 1,
      "outputs": [
        {
          "output_type": "stream",
          "name": "stdout",
          "text": [
            "Bagging Classifier Accuracy: 0.885\n"
          ]
        }
      ]
    },
    {
      "cell_type": "markdown",
      "source": [
        "**22) Train a Bagging Regressor using Decision Trees and evaluate using Mean Squared Error (MSE).**"
      ],
      "metadata": {
        "id": "_ERtpqtMwPN8"
      }
    },
    {
      "cell_type": "code",
      "source": [
        "from sklearn.ensemble import BaggingRegressor\n",
        "from sklearn.metrics import mean_squared_error\n",
        "from sklearn.datasets import make_regression\n",
        "\n",
        "X, y = make_regression(n_samples=1000, n_features=10, noise=0.1, random_state=42)\n",
        "X_train, X_test, y_train, y_test = train_test_split(X, y, test_size=0.2, random_state=42)\n",
        "bagging_regressor = BaggingRegressor(estimator=DecisionTreeRegressor(), n_estimators=10, random_state=42)\n",
        "bagging_regressor.fit(X_train, y_train)\n",
        "y_pred = bagging_regressor.predict(X_test)\n",
        "print(\"Bagging Regressor MSE:\", mean_squared_error(y_test, y_pred))"
      ],
      "metadata": {
        "colab": {
          "base_uri": "https://localhost:8080/"
        },
        "id": "v_J47W9I5ueL",
        "outputId": "bac274c6-3112-4386-fd6c-f8d99e960c1c"
      },
      "execution_count": 2,
      "outputs": [
        {
          "output_type": "stream",
          "name": "stdout",
          "text": [
            "Bagging Regressor MSE: 3222.395831454\n"
          ]
        }
      ]
    },
    {
      "cell_type": "markdown",
      "source": [
        "**23) Train a Random Forest Classifier on the Breast Cancer dataset and print feature importance scores?**"
      ],
      "metadata": {
        "id": "D2MzuPlKwb2C"
      }
    },
    {
      "cell_type": "code",
      "source": [
        "from sklearn.ensemble import RandomForestClassifier\n",
        "from sklearn.datasets import load_breast_cancer\n",
        "\n",
        "cancer = load_breast_cancer()\n",
        "X_train, X_test, y_train, y_test = train_test_split(cancer.data, cancer.target, test_size=0.2, random_state=42)\n",
        "rf = RandomForestClassifier(n_estimators=100, random_state=42)\n",
        "rf.fit(X_train, y_train)\n",
        "print(\"Feature Importances:\", rf.feature_importances_)"
      ],
      "metadata": {
        "colab": {
          "base_uri": "https://localhost:8080/"
        },
        "id": "1tGd5wsV6Gsr",
        "outputId": "4611d1f3-04a7-441f-f862-d69a47085d33"
      },
      "execution_count": 3,
      "outputs": [
        {
          "output_type": "stream",
          "name": "stdout",
          "text": [
            "Feature Importances: [0.04870337 0.01359088 0.05326975 0.04755501 0.00728533 0.01394433\n",
            " 0.06800084 0.10620999 0.00377029 0.00388577 0.02013892 0.00472399\n",
            " 0.01130301 0.02240696 0.00427091 0.00525322 0.00938583 0.00351326\n",
            " 0.00401842 0.00532146 0.07798688 0.02174901 0.06711483 0.15389236\n",
            " 0.01064421 0.02026604 0.0318016  0.14466327 0.01012018 0.00521012]\n"
          ]
        }
      ]
    },
    {
      "cell_type": "markdown",
      "source": [
        "**24) Train a Random Forest Regressor and compare its performance with a single Decision Tree?**"
      ],
      "metadata": {
        "id": "Ro4LC83Mwixe"
      }
    },
    {
      "cell_type": "code",
      "source": [
        "from sklearn.ensemble import RandomForestRegressor\n",
        "from sklearn.tree import DecisionTreeRegressor\n",
        "\n",
        "dt = DecisionTreeRegressor()\n",
        "dt.fit(X_train, y_train)\n",
        "dt_pred = dt.predict(X_test)\n",
        "rf_regressor = RandomForestRegressor(n_estimators=100, random_state=42)\n",
        "rf_regressor.fit(X_train, y_train)\n",
        "rf_pred = rf_regressor.predict(X_test)\n",
        "print(\"Decision Tree MSE:\", mean_squared_error(y_test, dt_pred))\n",
        "print(\"Random Forest MSE:\", mean_squared_error(y_test, rf_pred))"
      ],
      "metadata": {
        "colab": {
          "base_uri": "https://localhost:8080/"
        },
        "id": "IM8KGDbT6jH0",
        "outputId": "7f1365f6-5de4-4622-bf2c-6901146e91b9"
      },
      "execution_count": 4,
      "outputs": [
        {
          "output_type": "stream",
          "name": "stdout",
          "text": [
            "Decision Tree MSE: 0.05263157894736842\n",
            "Random Forest MSE: 0.03276140350877193\n"
          ]
        }
      ]
    },
    {
      "cell_type": "markdown",
      "source": [
        "**25) Compute the Out-of-Bag (OOB) Score for a Random Forest Classifier?**"
      ],
      "metadata": {
        "id": "WNa72YoTwpck"
      }
    },
    {
      "cell_type": "code",
      "source": [
        "rf_oob = RandomForestClassifier(n_estimators=100, oob_score=True, random_state=42)\n",
        "rf_oob.fit(X_train, y_train)\n",
        "print(\"OOB Score:\", rf_oob.oob_score_)"
      ],
      "metadata": {
        "colab": {
          "base_uri": "https://localhost:8080/"
        },
        "id": "b5nmuOey61GY",
        "outputId": "d1cea594-7e3c-4006-d895-3b3f8ac9a980"
      },
      "execution_count": 5,
      "outputs": [
        {
          "output_type": "stream",
          "name": "stdout",
          "text": [
            "OOB Score: 0.9560439560439561\n"
          ]
        }
      ]
    },
    {
      "cell_type": "markdown",
      "source": [
        "**26) Train a Bagging Classifier using SVM as a base estimator and print accuracy?**"
      ],
      "metadata": {
        "id": "rD_wT3c4w57S"
      }
    },
    {
      "cell_type": "code",
      "source": [
        "from sklearn.svm import SVC\n",
        "bagging_svm = BaggingClassifier(estimator=SVC(), n_estimators=10, random_state=42)\n",
        "bagging_svm.fit(X_train, y_train)\n",
        "print(\"Bagging SVM Accuracy:\", accuracy_score(y_test, bagging_svm.predict(X_test)))"
      ],
      "metadata": {
        "colab": {
          "base_uri": "https://localhost:8080/"
        },
        "id": "vApNcCze7F4a",
        "outputId": "39b63da0-6220-47a2-dd8e-d43c6315379f"
      },
      "execution_count": 6,
      "outputs": [
        {
          "output_type": "stream",
          "name": "stdout",
          "text": [
            "Bagging SVM Accuracy: 0.9473684210526315\n"
          ]
        }
      ]
    },
    {
      "cell_type": "markdown",
      "source": [
        "**27) Train a Random Forest Classifier with different numbers of trees and compare accuracy?**"
      ],
      "metadata": {
        "id": "YqEwEG4fxAR0"
      }
    },
    {
      "cell_type": "code",
      "source": [
        "for n_trees in [10, 50, 100]:\n",
        "    rf = RandomForestClassifier(n_estimators=n_trees, random_state=42)\n",
        "    rf.fit(X_train, y_train)\n",
        "    print(f\"Random Forest Accuracy (n_trees={n_trees}):\", accuracy_score(y_test, rf.predict(X_test)))"
      ],
      "metadata": {
        "colab": {
          "base_uri": "https://localhost:8080/"
        },
        "id": "n14H4zn87SiI",
        "outputId": "efadd6cd-e6e6-4ef6-ae8b-1a952e6a920a"
      },
      "execution_count": 7,
      "outputs": [
        {
          "output_type": "stream",
          "name": "stdout",
          "text": [
            "Random Forest Accuracy (n_trees=10): 0.956140350877193\n",
            "Random Forest Accuracy (n_trees=50): 0.9649122807017544\n",
            "Random Forest Accuracy (n_trees=100): 0.9649122807017544\n"
          ]
        }
      ]
    },
    {
      "cell_type": "markdown",
      "source": [
        "**28) Train a Bagging Classifier using Logistic Regression as a base estimator and print AUC score?**"
      ],
      "metadata": {
        "id": "wQzwksVixFly"
      }
    },
    {
      "cell_type": "code",
      "source": [
        "from sklearn.linear_model import LogisticRegression\n",
        "from sklearn.metrics import roc_auc_score\n",
        "\n",
        "bagging_lr = BaggingClassifier(estimator=LogisticRegression(max_iter=20000), n_estimators=10, random_state=42)\n",
        "bagging_lr.fit(X_train, y_train)\n",
        "y_pred_proba = bagging_lr.predict_proba(X_test)[:, 1]\n",
        "print(\"AUC Score:\", roc_auc_score(y_test, y_pred_proba))"
      ],
      "metadata": {
        "colab": {
          "base_uri": "https://localhost:8080/"
        },
        "id": "lNTnJIoP78HC",
        "outputId": "cbf70840-7eff-4db7-8c15-86967b1f5968"
      },
      "execution_count": 9,
      "outputs": [
        {
          "output_type": "stream",
          "name": "stdout",
          "text": [
            "AUC Score: 0.99737962659679\n"
          ]
        }
      ]
    },
    {
      "cell_type": "markdown",
      "source": [
        "**29) Train a Random Forest Regressor and analyze feature importance scores?**"
      ],
      "metadata": {
        "id": "2Ssbfks1xMt5"
      }
    },
    {
      "cell_type": "code",
      "source": [
        "rf_regressor.fit(X_train, y_train)\n",
        "print(\"Feature Importances:\", rf_regressor.feature_importances_)"
      ],
      "metadata": {
        "colab": {
          "base_uri": "https://localhost:8080/"
        },
        "id": "bd27ASs-9EvW",
        "outputId": "618081e1-5c94-4f6e-b4d2-e78cf541f2e7"
      },
      "execution_count": 10,
      "outputs": [
        {
          "output_type": "stream",
          "name": "stdout",
          "text": [
            "Feature Importances: [0.00140464 0.02106669 0.00253679 0.00514265 0.00665222 0.00077436\n",
            " 0.00465622 0.20278063 0.00266848 0.00214951 0.00369567 0.00376398\n",
            " 0.00391315 0.01023858 0.00347514 0.00170722 0.00658655 0.00326183\n",
            " 0.00354071 0.00527785 0.10347025 0.0254747  0.15894716 0.11817087\n",
            " 0.00845557 0.00183561 0.01177066 0.26993618 0.00421464 0.0024315 ]\n"
          ]
        }
      ]
    },
    {
      "cell_type": "markdown",
      "source": [
        "**30) Train an ensemble model using both Bagging and Random Forest and compare accuracy?**"
      ],
      "metadata": {
        "id": "7aJxD9n6xSNr"
      }
    },
    {
      "cell_type": "code",
      "source": [
        "ensemble_model = BaggingClassifier(estimator=RandomForestClassifier(), n_estimators=10, random_state=42)\n",
        "ensemble_model.fit(X_train, y_train)\n",
        "print(\"Ensemble Model Accuracy:\", accuracy_score(y_test, ensemble_model.predict(X_test)))\n",
        "rf = RandomForestClassifier(n_estimators=10, random_state=42)\n",
        "rf.fit(X_train, y_train)\n",
        "print(f\"Random Forest Accuracy\", accuracy_score(y_test, rf.predict(X_test)))"
      ],
      "metadata": {
        "colab": {
          "base_uri": "https://localhost:8080/"
        },
        "id": "2Jp6atrA9MTT",
        "outputId": "1d519ae3-5a35-48f9-88fb-0a6c2f42ba2e"
      },
      "execution_count": 11,
      "outputs": [
        {
          "output_type": "stream",
          "name": "stdout",
          "text": [
            "Ensemble Model Accuracy: 0.9649122807017544\n",
            "Random Forest Accuracy 0.956140350877193\n"
          ]
        }
      ]
    },
    {
      "cell_type": "markdown",
      "source": [
        "**31) Train a Random Forest Classifier and tune hyperparameters using GridSearchCV?**"
      ],
      "metadata": {
        "id": "P_tgUdTixXxO"
      }
    },
    {
      "cell_type": "code",
      "source": [
        "from sklearn.model_selection import GridSearchCV\n",
        "\n",
        "param_grid = {'n_estimators': [10, 50, 100], 'max_depth': [None, 10, 20]}\n",
        "grid_search = GridSearchCV(RandomForestClassifier(), param_grid, cv=5)\n",
        "grid_search.fit(X_train, y_train)\n",
        "print(\"Best parameters:\", grid_search.best_params_)"
      ],
      "metadata": {
        "colab": {
          "base_uri": "https://localhost:8080/"
        },
        "id": "6d424m3d958M",
        "outputId": "55a752b1-9ee9-4bf7-df64-28c5b4111edc"
      },
      "execution_count": 12,
      "outputs": [
        {
          "output_type": "stream",
          "name": "stdout",
          "text": [
            "Best parameters: {'max_depth': None, 'n_estimators': 100}\n"
          ]
        }
      ]
    },
    {
      "cell_type": "markdown",
      "source": [
        "**32) Train a Bagging Regressor with different numbers of base estimators and compare performance?**"
      ],
      "metadata": {
        "id": "mpmXlNcBxfaG"
      }
    },
    {
      "cell_type": "code",
      "source": [
        "for n_estimators in [5, 10, 50]:\n",
        "    bagging_reg = BaggingRegressor(estimator=DecisionTreeRegressor(), n_estimators=n_estimators, random_state=42)\n",
        "    bagging_reg.fit(X_train, y_train)\n",
        "    print(f\"Bagging Regressor MSE (n={n_estimators}):\", mean_squared_error(y_test, bagging_reg.predict(X_test)))"
      ],
      "metadata": {
        "colab": {
          "base_uri": "https://localhost:8080/"
        },
        "id": "Ekmjd_fs-O4l",
        "outputId": "48f778f5-b050-462b-b4bc-82801c90538f"
      },
      "execution_count": 13,
      "outputs": [
        {
          "output_type": "stream",
          "name": "stdout",
          "text": [
            "Bagging Regressor MSE (n=5): 0.03508771929824562\n",
            "Bagging Regressor MSE (n=10): 0.037456140350877194\n",
            "Bagging Regressor MSE (n=50): 0.03357543859649123\n"
          ]
        }
      ]
    },
    {
      "cell_type": "markdown",
      "source": [
        "**33) Train a Random Forest Classifier and analyze misclassified samples?**"
      ],
      "metadata": {
        "id": "u_L_58P5xlPv"
      }
    },
    {
      "cell_type": "code",
      "source": [
        "y_pred = rf.predict(X_test)\n",
        "misclassified = (y_pred != y_test).sum()\n",
        "print(\"Number of misclassified samples:\", misclassified)"
      ],
      "metadata": {
        "colab": {
          "base_uri": "https://localhost:8080/"
        },
        "id": "RxNXNDC8-WkB",
        "outputId": "ff328385-726f-4f43-b6a7-275f80b6c75e"
      },
      "execution_count": 14,
      "outputs": [
        {
          "output_type": "stream",
          "name": "stdout",
          "text": [
            "Number of misclassified samples: 5\n"
          ]
        }
      ]
    },
    {
      "cell_type": "markdown",
      "source": [
        "**34) Train a Bagging Classifier and compare its performance with a single Decision Tree Classifier?**"
      ],
      "metadata": {
        "id": "Eo_ir3Xmxqov"
      }
    },
    {
      "cell_type": "code",
      "source": [
        "dt = DecisionTreeClassifier()\n",
        "dt.fit(X_train, y_train)\n",
        "print(\"Decision Tree Accuracy:\", accuracy_score(y_test, dt.predict(X_test)))\n",
        "bagging.fit(X_train, y_train)\n",
        "print(\"Bagging Classifier Accuracy:\", accuracy_score(y_test, bagging.predict(X_test)))"
      ],
      "metadata": {
        "colab": {
          "base_uri": "https://localhost:8080/"
        },
        "id": "-nUOYddp-5mx",
        "outputId": "7721b9d8-2a81-44ac-8c4e-6d475ad69d5b"
      },
      "execution_count": 15,
      "outputs": [
        {
          "output_type": "stream",
          "name": "stdout",
          "text": [
            "Decision Tree Accuracy: 0.9473684210526315\n",
            "Bagging Classifier Accuracy: 0.956140350877193\n"
          ]
        }
      ]
    },
    {
      "cell_type": "markdown",
      "source": [
        "**35) Train a Random Forest Classifier and visualize the confusion matrix?**"
      ],
      "metadata": {
        "id": "4rJu0P6qxwWC"
      }
    },
    {
      "cell_type": "code",
      "source": [
        "import matplotlib.pyplot as plt\n",
        "from sklearn.metrics import confusion_matrix\n",
        "import seaborn as sns\n",
        "cm = confusion_matrix(y_test, rf.predict(X_test))\n",
        "sns.heatmap(cm, annot=True, fmt='d', cmap='Blues')\n",
        "plt.title(\"Confusion Matrix\")\n",
        "plt.xlabel(\"Predicted\")\n",
        "plt.ylabel(\"Actual\")\n",
        "plt.show()"
      ],
      "metadata": {
        "colab": {
          "base_uri": "https://localhost:8080/",
          "height": 472
        },
        "id": "I7ftXVgB_PR8",
        "outputId": "4b6a6ad3-4b81-417c-89db-a9ff7da17a50"
      },
      "execution_count": 16,
      "outputs": [
        {
          "output_type": "display_data",
          "data": {
            "text/plain": [
              "<Figure size 640x480 with 2 Axes>"
            ],
            "image/png": "[encoded data removed]"
          },
          "metadata": {}
        }
      ]
    },
    {
      "cell_type": "markdown",
      "source": [
        "**36) Train a Stacking Classifier using Decision Trees, SVM, and Logistic Regression, and compare accuracy?**"
      ],
      "metadata": {
        "id": "M2WrsUvBx1e0"
      }
    },
    {
      "cell_type": "code",
      "source": [
        "from sklearn.ensemble import StackingClassifier\n",
        "estimators = [('dt', DecisionTreeClassifier()), ('svm', SVC(probability=True)), ('lr', LogisticRegression(max_iter=10000))]\n",
        "stacking = StackingClassifier(estimators=estimators, final_estimator=LogisticRegression())\n",
        "stacking.fit(X_train, y_train)\n",
        "print(\"Stacking Classifier Accuracy:\", accuracy_score(y_test, stacking.predict(X_test)))"
      ],
      "metadata": {
        "colab": {
          "base_uri": "https://localhost:8080/"
        },
        "id": "0HX8Omyi_mXK",
        "outputId": "2c32aafd-6245-4171-98b5-960aaad87443"
      },
      "execution_count": 17,
      "outputs": [
        {
          "output_type": "stream",
          "name": "stdout",
          "text": [
            "Stacking Classifier Accuracy: 0.956140350877193\n"
          ]
        }
      ]
    },
    {
      "cell_type": "markdown",
      "source": [
        "**37) Train a Random Forest Classifier and print the top 5 most important features?**"
      ],
      "metadata": {
        "id": "d1kBJf4fx7dw"
      }
    },
    {
      "cell_type": "code",
      "source": [
        "import numpy as np\n",
        "feature_importances = rf.feature_importances_\n",
        "top_features = np.argsort(feature_importances)[-5:][::-1]\n",
        "print(\"Top 5 Features:\", top_features)"
      ],
      "metadata": {
        "colab": {
          "base_uri": "https://localhost:8080/"
        },
        "id": "3racpYHL_1R0",
        "outputId": "8e28d456-e180-4d95-ce07-dc3a5c09bbaa"
      },
      "execution_count": 18,
      "outputs": [
        {
          "output_type": "stream",
          "name": "stdout",
          "text": [
            "Top 5 Features: [27  7 23 20  0]\n"
          ]
        }
      ]
    },
    {
      "cell_type": "markdown",
      "source": [
        "**38) Train a Bagging Classifier and evaluate performance using Precision, Recall, and F1-score?**"
      ],
      "metadata": {
        "id": "KtHGEmfiyBYe"
      }
    },
    {
      "cell_type": "code",
      "source": [
        "from sklearn.metrics import precision_score, recall_score, f1_score\n",
        "\n",
        "y_pred = bagging.predict(X_test)\n",
        "print(\"Precision:\", precision_score(y_test, y_pred))\n",
        "print(\"Recall:\", recall_score(y_test, y_pred))\n",
        "print(\"F1-score:\", f1_score(y_test, y_pred))"
      ],
      "metadata": {
        "colab": {
          "base_uri": "https://localhost:8080/"
        },
        "id": "-UgJUKJUASHC",
        "outputId": "3e089793-dd62-42d0-eeb3-e3e27590c8e4"
      },
      "execution_count": 19,
      "outputs": [
        {
          "output_type": "stream",
          "name": "stdout",
          "text": [
            "Precision: 0.9583333333333334\n",
            "Recall: 0.971830985915493\n",
            "F1-score: 0.965034965034965\n"
          ]
        }
      ]
    },
    {
      "cell_type": "markdown",
      "source": [
        "**39) Train a Random Forest Classifier and analyze the effect of max_depth on accuracy?**"
      ],
      "metadata": {
        "id": "W9Uvmh2uyGg7"
      }
    },
    {
      "cell_type": "code",
      "source": [
        "for depth in [5, 10, None]:\n",
        "    rf = RandomForestClassifier(max_depth=depth, random_state=42)\n",
        "    rf.fit(X_train, y_train)\n",
        "    print(f\"Random Forest Accuracy (max_depth={depth}):\", accuracy_score(y_test, rf.predict(X_test)))"
      ],
      "metadata": {
        "colab": {
          "base_uri": "https://localhost:8080/"
        },
        "id": "yUyvCIGyAaGY",
        "outputId": "6f4ad54a-7ac0-4798-a570-05af29382aae"
      },
      "execution_count": 20,
      "outputs": [
        {
          "output_type": "stream",
          "name": "stdout",
          "text": [
            "Random Forest Accuracy (max_depth=5): 0.9649122807017544\n",
            "Random Forest Accuracy (max_depth=10): 0.9649122807017544\n",
            "Random Forest Accuracy (max_depth=None): 0.9649122807017544\n"
          ]
        }
      ]
    },
    {
      "cell_type": "markdown",
      "source": [
        "**40) Train a Bagging Regressor using different base estimators (DecisionTree and KNeighbors) and compare performance?**"
      ],
      "metadata": {
        "id": "7fzPIwQyyMy0"
      }
    },
    {
      "cell_type": "code",
      "source": [
        "from sklearn.neighbors import KNeighborsRegressor\n",
        "\n",
        "estimators = [DecisionTreeRegressor(), KNeighborsRegressor()]\n",
        "for estimator in estimators:\n",
        "    bagging_reg = BaggingRegressor(estimator=estimator, n_estimators=10, random_state=42)\n",
        "    bagging_reg.fit(X_train, y_train)\n",
        "    print(f\"Bagging Regressor MSE ({estimator}):\", mean_squared_error(y_test, bagging_reg.predict(X_test)))"
      ],
      "metadata": {
        "colab": {
          "base_uri": "https://localhost:8080/"
        },
        "id": "rch53aJUAqx9",
        "outputId": "5d3258ab-b8e2-40b8-88d8-5fe91e912b59"
      },
      "execution_count": 21,
      "outputs": [
        {
          "output_type": "stream",
          "name": "stdout",
          "text": [
            "Bagging Regressor MSE (DecisionTreeRegressor()): 0.037456140350877194\n",
            "Bagging Regressor MSE (KNeighborsRegressor()): 0.029428070175438595\n"
          ]
        }
      ]
    },
    {
      "cell_type": "markdown",
      "source": [
        "**41) Train a Random Forest Classifier and evaluate its performance using ROC-AUC Score?**"
      ],
      "metadata": {
        "id": "O3TR804ByRqH"
      }
    },
    {
      "cell_type": "code",
      "source": [
        "y_pred_proba = rf.predict_proba(X_test)[:, 1]\n",
        "print(\"ROC-AUC Score:\", roc_auc_score(y_test, y_pred_proba))"
      ],
      "metadata": {
        "colab": {
          "base_uri": "https://localhost:8080/"
        },
        "id": "Kj_yQjZbBD7J",
        "outputId": "b369857d-d318-4c8c-e5f8-6198f14d34b7"
      },
      "execution_count": 22,
      "outputs": [
        {
          "output_type": "stream",
          "name": "stdout",
          "text": [
            "ROC-AUC Score: 0.9952505732066819\n"
          ]
        }
      ]
    },
    {
      "cell_type": "markdown",
      "source": [
        "**42) Train a Bagging Classifier and evaluate its performance using cross-validation?**"
      ],
      "metadata": {
        "id": "hGGzRzQByVkz"
      }
    },
    {
      "cell_type": "code",
      "source": [
        "from sklearn.model_selection import cross_val_score\n",
        "\n",
        "cv_scores = cross_val_score(bagging, X_train, y_train, cv=5)\n",
        "print(\"42. Cross-validation Accuracy:\", np.mean(cv_scores))\n"
      ],
      "metadata": {
        "colab": {
          "base_uri": "https://localhost:8080/"
        },
        "id": "nAJIKaW_BNcu",
        "outputId": "99239697-1ac3-4867-b88a-df60be9f771d"
      },
      "execution_count": 23,
      "outputs": [
        {
          "output_type": "stream",
          "name": "stdout",
          "text": [
            "42. Cross-validation Accuracy: 0.9362637362637363\n"
          ]
        }
      ]
    },
    {
      "cell_type": "markdown",
      "source": [
        "**43) Train a Random Forest Classifier and plot the Precision-Recall curve?**"
      ],
      "metadata": {
        "id": "6CShh0l7yaK1"
      }
    },
    {
      "cell_type": "code",
      "source": [
        "from sklearn.metrics import precision_recall_curve\n",
        "\n",
        "precision, recall, _ = precision_recall_curve(y_test, y_pred_proba)\n",
        "plt.plot(recall, precision, marker='.')\n",
        "plt.xlabel(\"Recall\")\n",
        "plt.ylabel(\"Precision\")\n",
        "plt.title(\"Precision-Recall Curve\")\n",
        "plt.show()"
      ],
      "metadata": {
        "colab": {
          "base_uri": "https://localhost:8080/",
          "height": 472
        },
        "id": "SE6C5975BV1-",
        "outputId": "7ed6b39f-6c60-4ad7-fa79-5df84361bf19"
      },
      "execution_count": 24,
      "outputs": [
        {
          "output_type": "display_data",
          "data": {
            "text/plain": [
              "<Figure size 640x480 with 1 Axes>"
            ],
            "image/png": "[encoded data removed]"
          },
          "metadata": {}
        }
      ]
    },
    {
      "cell_type": "markdown",
      "source": [
        "**44) Train a Stacking Classifier with Random Forest and Logistic Regression and compare accuracy?**"
      ],
      "metadata": {
        "id": "3KDwg2KKyd8U"
      }
    },
    {
      "cell_type": "code",
      "source": [
        "estimators = [('rf', RandomForestClassifier()), ('lr', LogisticRegression(max_iter=10000))]\n",
        "stacking = StackingClassifier(estimators=estimators, final_estimator=LogisticRegression())\n",
        "stacking.fit(X_train, y_train)\n",
        "print(\"Stacking Classifier Accuracy:\", accuracy_score(y_test, stacking.predict(X_test)))"
      ],
      "metadata": {
        "colab": {
          "base_uri": "https://localhost:8080/"
        },
        "id": "4dCe4R9pBcFK",
        "outputId": "ac1aea76-dce1-47f3-c713-3de4d648f2ce"
      },
      "execution_count": 25,
      "outputs": [
        {
          "output_type": "stream",
          "name": "stdout",
          "text": [
            "Stacking Classifier Accuracy: 0.9649122807017544\n"
          ]
        }
      ]
    },
    {
      "cell_type": "markdown",
      "source": [
        "**45) Train a Bagging Regressor with different levels of bootstrap samples and compare performance?**"
      ],
      "metadata": {
        "id": "9UEalUZQymUo"
      }
    },
    {
      "cell_type": "code",
      "source": [
        "for bootstrap_samples in [0.5, 0.7, 1.0]:\n",
        "    bagging_reg = BaggingRegressor(n_estimators=10, max_samples=bootstrap_samples, random_state=42)\n",
        "    bagging_reg.fit(X_train, y_train)\n",
        "    print(f\"Bagging Regressor MSE (bootstrap={bootstrap_samples}):\", mean_squared_error(y_test, bagging_reg.predict(X_test)))"
      ],
      "metadata": {
        "id": "GdqeKkzHBng4",
        "outputId": "aa762994-8a5b-47ec-c587-a4475ada7219",
        "colab": {
          "base_uri": "https://localhost:8080/"
        }
      },
      "execution_count": 26,
      "outputs": [
        {
          "output_type": "stream",
          "name": "stdout",
          "text": [
            "Bagging Regressor MSE (bootstrap=0.5): 0.03798245614035089\n",
            "Bagging Regressor MSE (bootstrap=0.7): 0.035789473684210524\n",
            "Bagging Regressor MSE (bootstrap=1.0): 0.037456140350877194\n"
          ]
        }
      ]
    },
    {
      "cell_type": "code",
      "source": [],
      "metadata": {
        "id": "APaGMUilz6_A"
      },
      "execution_count": 26,
      "outputs": []
    }
  ]
}