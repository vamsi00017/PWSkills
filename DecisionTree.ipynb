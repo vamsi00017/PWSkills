{
  "nbformat": 4,
  "nbformat_minor": 0,
  "metadata": {
    "colab": {
      "provenance": [],
      "collapsed_sections": [
        "0ICaI2ZPDrrg",
        "Kd_V7CklDwWu"
      ]
    },
    "kernelspec": {
      "name": "python3",
      "display_name": "Python 3"
    },
    "language_info": {
      "name": "python"
    }
  },
  "cells": [
    {
      "cell_type": "markdown",
      "source": [
        "#Theoretical"
      ],
      "metadata": {
        "id": "0ICaI2ZPDrrg"
      }
    },
    {
      "cell_type": "markdown",
      "source": [
        "**1)What is a Decision Tree, and how does it work?**\n",
        "\n",
        "Ans)A Decision Tree is a supervised machine learning algorithm for classification and regression. It works by creating a tree-like model where internal nodes are attribute tests, branches are test outcomes, and leaf nodes are class labels.\n",
        "\n",
        "**2)What are impurity measures in Decision Trees?**\n",
        "\n",
        "Ans)Impurity measures evaluate the homogeneity of samples within a node. The goal is to reduce impurity after a split, meaning samples in child nodes are more similar. Common measures are Gini Impurity and Entropy.\n",
        "\n",
        "**3)What is the mathematical formula for Gini Impurity?**\n",
        "\n",
        "Ans)\n",
        "G(p)=1−\n",
        "i=1\n",
        "∑\n",
        "C\n",
        "​\n",
        " (p\n",
        "i\n",
        "​\n",
        " )\n",
        "2\n",
        "\n",
        "\n",
        "**4)What is the mathematical formula for Entropy?**\n",
        "\n",
        "Ans)\n",
        "H(p)=−\n",
        "i=1\n",
        "∑\n",
        "C\n",
        "​\n",
        " p\n",
        "i\n",
        "​\n",
        " log\n",
        "2\n",
        "​\n",
        " (p\n",
        "i\n",
        "​\n",
        " )\n",
        "\n",
        "\n",
        "**5)What is Information Gain, and how is it used in Decision Trees?**\n",
        "\n",
        "Ans)Information Gain quantifies the reduction in entropy after splitting a dataset on an attribute. It measures how much information a feature provides about the class labels. Decision Tree algorithms use Information Gain to select the best attribute for splitting a node.\n",
        "\n",
        "**6)What is the difference between Gini Impurity and Entropy?**\n",
        "\n",
        "Ans)Both Gini Impurity and Entropy measure impurity for splitting. Gini Impurity measures the probability of misclassification and is computationally faster. Entropy measures the average uncertainty and tends to produce more balanced trees.\n",
        "\n",
        "**7)What is the mathematical explanation behind Decision Trees?**\n",
        "\n",
        "Ans)The mathematical basis of Decision Trees is to find optimal splits that partition the feature space into homogeneous regions. For classification, this means minimizing impurity at each split using metrics. For regression, it means minimizing variance within each node.\n",
        "\n",
        "**8)What is Pre-Pruning in Decision Trees?**\n",
        "\n",
        "Ans)Pre-pruning involves halting the tree's growth before it fully classifies the training data. This is achieved by setting constraints like max_depth, min_samples_split, min_samples_leaf, or min_impurity_decrease during tree construction. Its purpose is to prevent overfitting by stopping growth when further splits offer negligible gain or nodes become too small.\n",
        "\n",
        "**9)What is Post-Pruning in Decision Trees?**\n",
        "\n",
        "Ans)Post-pruning involves growing a full Decision Tree first, then removing branches or nodes that contribute little to generalization performance. This process typically uses a separate validation set to evaluate and simplify the overfitted full tree. Common techniques include cost-complexity pruning.\n",
        "\n",
        "**10)What is the difference between Pre-Pruning and Post-Pruning?**\n",
        "\n",
        "Ans)Pre-pruning stops tree growth early based on predefined criteria during the training phase. Post-pruning allows the tree to grow fully first, then prunes back unnecessary branches based on validation performance.\n",
        "\n",
        "**11)What is a Decision Tree Regressor?**\n",
        "\n",
        "Ans)A Decision Tree Regressor is a Decision Tree model adapted for regression tasks. Instead of predicting a class label at each leaf node, it predicts the average of the target values of the samples within that leaf.\n",
        "\n",
        "**12) What are the advantages and disadvantages of Decision Trees?**\n",
        "Ans) Decision Trees are intuitive, handle diverse data (numerical/categorical), and need minimal preparation, making them easy to interpret and visualize. However, they are prone to overfitting, exhibit instability with minor data changes, and can be biased towards dominant classes, potentially finding only local optima.\n",
        "\n",
        "**13) How does a Decision Tree handle missing values?**\n",
        "Ans) Scikit-learn's Decision Trees typically require prior imputation or exclusion of rows with missing data. Other implementations, like some CART variations, can handle them directly using surrogate splits, sending samples down branches probabilistically, or treating 'missing' as a distinct category.\n",
        "\n",
        "**14)How does a Decision Tree handle categorical features?**\n",
        "\n",
        "Ans)Decision Trees handle categorical features in several ways. One common method, especially in scikit-learn, is One-Hot Encoding, converting categories into numerical binary vectors. This direct handling involves either splitting into multiple branches or creating binary splits by optimally grouping categories into two subsets to maximize impurity reduction.\n",
        "\n",
        "**15)What are some real-world applications of Decision Trees?**\n",
        "\n",
        "Ans)Decision Trees find broad application across diverse fields. In healthcare,finance,credit risk and detecting fraud,customer segmentation, churn prediction, and product recommendations,bioinformatics, image classification, and recommendation systems."
      ],
      "metadata": {
        "id": "3Q_7epctE2fO"
      }
    },
    {
      "cell_type": "markdown",
      "source": [
        "#Practical"
      ],
      "metadata": {
        "id": "Kd_V7CklDwWu"
      }
    },
    {
      "cell_type": "markdown",
      "source": [
        "**16) Write a Python program to train a Decision Tree Classifier on the Iris dataset and print the model accuracy?**"
      ],
      "metadata": {
        "id": "-nCJF0FteJVW"
      }
    },
    {
      "cell_type": "code",
      "source": [
        "from sklearn.datasets import load_iris\n",
        "from sklearn.tree import DecisionTreeClassifier\n",
        "from sklearn.model_selection import train_test_split\n",
        "from sklearn.metrics import accuracy_score\n",
        "\n",
        "iris = load_iris()\n",
        "X_train, X_test, y_train, y_test = train_test_split(iris.data, iris.target, test_size=0.2, random_state=42)\n",
        "clf = DecisionTreeClassifier()\n",
        "clf.fit(X_train, y_train)\n",
        "y_pred = clf.predict(X_test)\n",
        "print(\"Accuracy:\", accuracy_score(y_test, y_pred))"
      ],
      "metadata": {
        "colab": {
          "base_uri": "https://localhost:8080/"
        },
        "id": "HdpvK2RNjLiG",
        "outputId": "8b7a79a7-ff45-49e4-c26b-267ea04b8386"
      },
      "execution_count": 1,
      "outputs": [
        {
          "output_type": "stream",
          "name": "stdout",
          "text": [
            "Accuracy: 1.0\n"
          ]
        }
      ]
    },
    {
      "cell_type": "markdown",
      "source": [
        "**17) Write a Python program to train a Decision Tree Classifier using Gini Impurity as the criterion and print the feature importances?**"
      ],
      "metadata": {
        "id": "CaYr8WhAiRIY"
      }
    },
    {
      "cell_type": "code",
      "source": [
        "clfgini = DecisionTreeClassifier(criterion='gini')\n",
        "clfgini.fit(X_train, y_train)\n",
        "print(\"Feature Importances\", clfgini.feature_importances_)"
      ],
      "metadata": {
        "colab": {
          "base_uri": "https://localhost:8080/"
        },
        "id": "8wkcjZpwj2L7",
        "outputId": "601cbe2b-fce8-4583-e9aa-faee73619a85"
      },
      "execution_count": 2,
      "outputs": [
        {
          "output_type": "stream",
          "name": "stdout",
          "text": [
            "Feature Importances [0.01667014 0.01667014 0.38926487 0.57739485]\n"
          ]
        }
      ]
    },
    {
      "cell_type": "markdown",
      "source": [
        "**18) Write a Python program to train a Decision Tree Classifier using Entropy as the splitting criterion and print the model accuracy?**"
      ],
      "metadata": {
        "id": "a-8AHGc_iI1X"
      }
    },
    {
      "cell_type": "code",
      "source": [
        "clfentropy = DecisionTreeClassifier(criterion='entropy')\n",
        "clfentropy.fit(X_train, y_train)\n",
        "y_pred_entropy = clfentropy.predict(X_test)\n",
        "print(\"Accuracy:\", accuracy_score(y_test, y_pred_entropy))"
      ],
      "metadata": {
        "colab": {
          "base_uri": "https://localhost:8080/"
        },
        "id": "ntlm25dnj_R7",
        "outputId": "fafc1c5b-e699-4598-b023-7ecf6f2dda45"
      },
      "execution_count": 3,
      "outputs": [
        {
          "output_type": "stream",
          "name": "stdout",
          "text": [
            "Accuracy: 1.0\n"
          ]
        }
      ]
    },
    {
      "cell_type": "markdown",
      "source": [
        "**19) Write a Python program to train a Decision Tree Regressor on a housing dataset and evaluate using Mean Squared Error (MSE)?**"
      ],
      "metadata": {
        "id": "KhwFWKDCidNe"
      }
    },
    {
      "cell_type": "code",
      "source": [
        "from sklearn.datasets import fetch_california_housing\n",
        "from sklearn.tree import DecisionTreeRegressor\n",
        "from sklearn.metrics import mean_squared_error\n",
        "\n",
        "housing = fetch_california_housing()\n",
        "X_train, X_test, y_train, y_test = train_test_split(housing.data, housing.target, test_size=0.2, random_state=42)\n",
        "regressor = DecisionTreeRegressor()\n",
        "regressor.fit(X_train, y_train)\n",
        "y_pred = regressor.predict(X_test)\n",
        "print(\"Mean Squared Error:\", mean_squared_error(y_test, y_pred))"
      ],
      "metadata": {
        "colab": {
          "base_uri": "https://localhost:8080/"
        },
        "id": "KhEWvSKxkKr3",
        "outputId": "e668d9cc-cf49-4c40-e708-f70905411d6a"
      },
      "execution_count": 4,
      "outputs": [
        {
          "output_type": "stream",
          "name": "stdout",
          "text": [
            "Mean Squared Error: 0.5084311011329457\n"
          ]
        }
      ]
    },
    {
      "cell_type": "markdown",
      "source": [
        "**20) Write a Python program to train a Decision Tree Classifier and visualize the tree using graphviz?**"
      ],
      "metadata": {
        "id": "vGouzudUig4-"
      }
    },
    {
      "cell_type": "code",
      "source": [
        "from sklearn.tree import export_graphviz\n",
        "import graphviz\n",
        "dot_data = export_graphviz(clf, out_file=None, feature_names=iris.feature_names, class_names=iris.target_names, filled=True)\n",
        "graph = graphviz.Source(dot_data)\n",
        "graph.render(\"DecisionTree\")"
      ],
      "metadata": {
        "colab": {
          "base_uri": "https://localhost:8080/",
          "height": 36
        },
        "id": "VjgNLZg_mZVp",
        "outputId": "28b1b159-354a-44f5-82b4-dcfdf51dc976"
      },
      "execution_count": 5,
      "outputs": [
        {
          "output_type": "execute_result",
          "data": {
            "text/plain": [
              "'DecisionTree.pdf'"
            ],
            "application/vnd.google.colaboratory.intrinsic+json": {
              "type": "string"
            }
          },
          "metadata": {},
          "execution_count": 5
        }
      ]
    },
    {
      "cell_type": "markdown",
      "source": [
        "**21) Write a Python program to train a Decision Tree Classifier with a maximum depth of 3 and compare its accuracy with a fully grown tree?**"
      ],
      "metadata": {
        "id": "VwAT0xGYiVC4"
      }
    },
    {
      "cell_type": "code",
      "source": [
        "from sklearn.datasets import load_iris\n",
        "from sklearn.tree import DecisionTreeClassifier\n",
        "from sklearn.model_selection import train_test_split\n",
        "\n",
        "iris = load_iris()\n",
        "X_train, X_test, y_train, y_test = train_test_split(iris.data, iris.target, test_size=0.2, random_state=42)\n",
        "clf_depth3 = DecisionTreeClassifier(max_depth=3)\n",
        "clf_depth3.fit(X_train, y_train)\n",
        "y_pred_depth_3 = clf_depth3.predict(X_test)\n",
        "print(\"Accuracy of Depth 3:\", accuracy_score(y_test, y_pred_depth_3))\n",
        "\n",
        "clffull = DecisionTreeClassifier()\n",
        "clffull.fit(X_train, y_train)\n",
        "y_pred_full = clffull.predict(X_test)\n",
        "print(\"Accuracy of Full Tree:\", accuracy_score(y_test, y_pred_full))"
      ],
      "metadata": {
        "colab": {
          "base_uri": "https://localhost:8080/"
        },
        "id": "MSvCtd8lnZ32",
        "outputId": "42f9785e-e464-4e22-e497-2e60ffcba380"
      },
      "execution_count": 6,
      "outputs": [
        {
          "output_type": "stream",
          "name": "stdout",
          "text": [
            "Accuracy of Depth 3: 1.0\n",
            "Accuracy of Full Tree: 1.0\n"
          ]
        }
      ]
    },
    {
      "cell_type": "markdown",
      "source": [
        "**22) Write a Python program to train a Decision Tree Classifier using min_samples_split=5 and compare its accuracy with a default tree?**"
      ],
      "metadata": {
        "id": "85_Fo8lnioZs"
      }
    },
    {
      "cell_type": "code",
      "source": [
        "clfsplit5 = DecisionTreeClassifier(min_samples_split=5)\n",
        "clfsplit5.fit(X_train, y_train)\n",
        "\n",
        "y_pred_split_5 = clfsplit5.predict(X_test)\n",
        "print(\"Accuracy of minsamples\", accuracy_score(y_test, y_pred_split_5))\n"
      ],
      "metadata": {
        "colab": {
          "base_uri": "https://localhost:8080/"
        },
        "id": "Dpu6nDV5n1qm",
        "outputId": "808c77a9-d05b-42fb-bc1f-ce27531f3283"
      },
      "execution_count": 7,
      "outputs": [
        {
          "output_type": "stream",
          "name": "stdout",
          "text": [
            "Accuracy of minsamples 1.0\n"
          ]
        }
      ]
    },
    {
      "cell_type": "markdown",
      "source": [
        "**23) Write a Python program to apply feature scaling before training a Decision Tree Classifier and compare its accuracy with unscaled data?**"
      ],
      "metadata": {
        "id": "AP-mUgyxisGw"
      }
    },
    {
      "cell_type": "code",
      "source": [
        "from sklearn.preprocessing import StandardScaler\n",
        "\n",
        "scaler = StandardScaler()\n",
        "X_train_scaled = scaler.fit_transform(X_train)\n",
        "X_test_scaled = scaler.transform(X_test)\n",
        "clf_scaled = DecisionTreeClassifier()\n",
        "clf_scaled.fit(X_train_scaled, y_train)\n",
        "y_pred_scaled = clf_scaled.predict(X_test_scaled)\n",
        "print(\"Accuracy with scaling\", accuracy_score(y_test, y_pred_scaled))"
      ],
      "metadata": {
        "colab": {
          "base_uri": "https://localhost:8080/"
        },
        "id": "1MeRrYbTobUm",
        "outputId": "ca62fc1f-980d-424d-99fa-aa822f7ae056"
      },
      "execution_count": 8,
      "outputs": [
        {
          "output_type": "stream",
          "name": "stdout",
          "text": [
            "Accuracy with scaling 1.0\n"
          ]
        }
      ]
    },
    {
      "cell_type": "markdown",
      "source": [
        "**24) Write a Python program to train a Decision Tree Classifier using One-vs-Rest (OvR) strategy for multiclass classification?**"
      ],
      "metadata": {
        "id": "omrYBSUrivlR"
      }
    },
    {
      "cell_type": "code",
      "source": [
        "from sklearn.multiclass import OneVsRestClassifier\n",
        "\n",
        "ovr_clf = OneVsRestClassifier(DecisionTreeClassifier())\n",
        "ovr_clf.fit(X_train, y_train)\n",
        "y_pred_ovr = ovr_clf.predict(X_test)\n",
        "print(\"OvR Accuracy:\", accuracy_score(y_test, y_pred_ovr))"
      ],
      "metadata": {
        "colab": {
          "base_uri": "https://localhost:8080/"
        },
        "id": "Q_zejl1Zph9v",
        "outputId": "98e80eae-0abd-43c9-915c-f03cba8f89ed"
      },
      "execution_count": 9,
      "outputs": [
        {
          "output_type": "stream",
          "name": "stdout",
          "text": [
            "OvR Accuracy: 1.0\n"
          ]
        }
      ]
    },
    {
      "cell_type": "markdown",
      "source": [
        "**25) Write a Python program to train a Decision Tree Classifier and display the feature importance scores?**"
      ],
      "metadata": {
        "id": "lyUk9Kjniyg9"
      }
    },
    {
      "cell_type": "code",
      "source": [
        "print(\"Feature Importances\", clf.feature_importances_)"
      ],
      "metadata": {
        "colab": {
          "base_uri": "https://localhost:8080/"
        },
        "id": "6R9kqvoRsAF0",
        "outputId": "86f75172-d41b-44e4-90cf-16c52bb12327"
      },
      "execution_count": 10,
      "outputs": [
        {
          "output_type": "stream",
          "name": "stdout",
          "text": [
            "Feature Importances [0.03334028 0.         0.38926487 0.57739485]\n"
          ]
        }
      ]
    },
    {
      "cell_type": "markdown",
      "source": [
        "**26) Write a Python program to train a Decision Tree Regressor with max_depth=5 and compare its performance with an unrestricted tree?**"
      ],
      "metadata": {
        "id": "YKqf6BM-i1ib"
      }
    },
    {
      "cell_type": "code",
      "source": [
        "regressor_depth5 = DecisionTreeRegressor(max_depth=5)\n",
        "regressor_depth5.fit(X_train, y_train)\n",
        "y_pred_depth_5 = regressor_depth5.predict(X_test)\n",
        "regressor_unrestricted = DecisionTreeRegressor()\n",
        "regressor_unrestricted.fit(X_train, y_train)\n",
        "y_pred_unrestricted = regressor_unrestricted.predict(X_test)\n",
        "print(\"MSE max_depth\", mean_squared_error(y_test, y_pred_depth_5))\n",
        "print(\"MSE Unrestricted\", mean_squared_error(y_test, y_pred_unrestricted))"
      ],
      "metadata": {
        "colab": {
          "base_uri": "https://localhost:8080/"
        },
        "id": "Gh6MdeGWsmsZ",
        "outputId": "5836826b-eb39-4f38-c693-5c7f3717171a"
      },
      "execution_count": 11,
      "outputs": [
        {
          "output_type": "stream",
          "name": "stdout",
          "text": [
            "MSE max_depth 0.0\n",
            "MSE Unrestricted 0.0\n"
          ]
        }
      ]
    },
    {
      "cell_type": "markdown",
      "source": [
        "**27) Write a Python program to train a Decision Tree Classifier, apply Cost Complexity Pruning (CCP), and visualize its effect on accuracy?**"
      ],
      "metadata": {
        "id": "m32zEUR5i5vr"
      }
    },
    {
      "cell_type": "code",
      "source": [
        "path = clf.cost_complexity_pruning_path(X_train, y_train)\n",
        "ccp_alphas = path.ccp_alphas\n",
        "for alpha in ccp_alphas:\n",
        "    clf_pruned = DecisionTreeClassifier(ccp_alpha=alpha)\n",
        "    clf_pruned.fit(X_train, y_train)\n",
        "    y_pred_pruned = clf_pruned.predict(X_test)\n",
        "    print(f\"Alpha: {alpha}, Accuracy: {accuracy_score(y_test, y_pred_pruned)}\")\n"
      ],
      "metadata": {
        "colab": {
          "base_uri": "https://localhost:8080/"
        },
        "id": "vfgZp9L0tAjs",
        "outputId": "17ad27e7-c02b-4c63-93b7-5b980239a4f4"
      },
      "execution_count": 12,
      "outputs": [
        {
          "output_type": "stream",
          "name": "stdout",
          "text": [
            "Alpha: 0.0, Accuracy: 1.0\n",
            "Alpha: 0.008095238095238095, Accuracy: 1.0\n",
            "Alpha: 0.01111111111111111, Accuracy: 1.0\n",
            "Alpha: 0.011111111111111113, Accuracy: 1.0\n",
            "Alpha: 0.01621621621621623, Accuracy: 1.0\n",
            "Alpha: 0.024119601328903645, Accuracy: 0.9666666666666667\n",
            "Alpha: 0.24326537293107053, Accuracy: 0.6333333333333333\n",
            "Alpha: 0.3334027777777779, Accuracy: 0.3\n"
          ]
        }
      ]
    },
    {
      "cell_type": "markdown",
      "source": [
        "**28) Write a Python program to train a Decision Tree Classifier and evaluate its performance using Precision, Recall, and F1-Score?**"
      ],
      "metadata": {
        "id": "j66-4KCNi9bj"
      }
    },
    {
      "cell_type": "code",
      "source": [
        "import numpy as np\n",
        "from sklearn.datasets import load_iris\n",
        "from sklearn.tree import DecisionTreeClassifier\n",
        "from sklearn.model_selection import train_test_split\n",
        "from sklearn.metrics import precision_score, recall_score, f1_score\n",
        "\n",
        "iris = load_iris()\n",
        "X, y = iris.data, iris.target\n",
        "X_train, X_test, y_train, y_test = train_test_split(X, y, test_size=0.3, random_state=42)\n",
        "clf_metrics = DecisionTreeClassifier(random_state=42)\n",
        "clf_metrics.fit(X_train, y_train)\n",
        "y_pred_metrics = clf_metrics.predict(X_test)\n",
        "precision = precision_score(y_test, y_pred_metrics, average='weighted')\n",
        "recall = recall_score(y_test, y_pred_metrics, average='weighted')\n",
        "f1 = f1_score(y_test, y_pred_metrics, average='weighted')\n",
        "print(f\"Precision (weighted): {precision:.4f}\")\n",
        "print(f\"Recall (weighted): {recall:.4f}\")\n",
        "print(f\"F1-Score (weighted): {f1:.4f}\")\n"
      ],
      "metadata": {
        "colab": {
          "base_uri": "https://localhost:8080/"
        },
        "id": "NOq3Jga9jKEk",
        "outputId": "8ee3b537-7ead-4262-9e40-e8c38644c47f"
      },
      "execution_count": 13,
      "outputs": [
        {
          "output_type": "stream",
          "name": "stdout",
          "text": [
            "Precision (weighted): 1.0000\n",
            "Recall (weighted): 1.0000\n",
            "F1-Score (weighted): 1.0000\n"
          ]
        }
      ]
    },
    {
      "cell_type": "markdown",
      "source": [
        "**29) Write a Python program to train a Decision Tree Classifier and visualize the confusion matrix using seaborn?**"
      ],
      "metadata": {
        "id": "0G5Z00wajCSA"
      }
    },
    {
      "cell_type": "code",
      "source": [
        "import seaborn as sns\n",
        "import matplotlib.pyplot as plt\n",
        "from sklearn.metrics import confusion_matrix\n",
        "\n",
        "y_pred = clf.predict(X_test)\n",
        "cm = confusion_matrix(y_test, y_pred)\n",
        "plt.figure(figsize=(6, 4))\n",
        "sns.heatmap(cm, annot=True, cmap=\"Blues\", fmt=\"d\", xticklabels=iris.target_names, yticklabels=iris.target_names)\n",
        "plt.xlabel(\"Predicted Output\")\n",
        "plt.ylabel(\"Actual Output\")\n",
        "plt.title(\"Confusion Matrix\")\n",
        "plt.show()"
      ],
      "metadata": {
        "colab": {
          "base_uri": "https://localhost:8080/",
          "height": 410
        },
        "id": "PFfP5KIwvPOu",
        "outputId": "c35ed700-234c-4410-d88d-0a24f36b9a64"
      },
      "execution_count": 14,
      "outputs": [
        {
          "output_type": "display_data",
          "data": {
            "text/plain": [
              "<Figure size 600x400 with 2 Axes>"
            ],
            "image/png": "[encoded data removed]"
          },
          "metadata": {}
        }
      ]
    },
    {
      "cell_type": "markdown",
      "source": [
        "**30) Write a Python program to train a Decision Tree Classifier and use GridSearchCV to find the optimal values for max_depth and min_samples_split?**"
      ],
      "metadata": {
        "id": "FAMLYBAGjGFp"
      }
    },
    {
      "cell_type": "code",
      "execution_count": 15,
      "metadata": {
        "id": "euCHhcOxDH_1",
        "colab": {
          "base_uri": "https://localhost:8080/"
        },
        "outputId": "86f5af4e-262c-411d-fa70-ce67ad783df9"
      },
      "outputs": [
        {
          "output_type": "stream",
          "name": "stdout",
          "text": [
            "Best parameters: {'max_depth': 5, 'min_samples_split': 10}\n",
            "Best accuracy: 0.9428571428571428\n"
          ]
        }
      ],
      "source": [
        "from sklearn.model_selection import GridSearchCV\n",
        "\n",
        "param_grid = {'max_depth': [3, 5, 10, None], 'min_samples_split': [2, 5, 10]}\n",
        "grid_search = GridSearchCV(DecisionTreeClassifier(), param_grid, cv=5)\n",
        "grid_search.fit(X_train, y_train)\n",
        "print(\"Best parameters:\", grid_search.best_params_)\n",
        "print(\"Best accuracy:\", grid_search.best_score_)"
      ]
    }
  ]
}