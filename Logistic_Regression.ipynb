{
  "nbformat": 4,
  "nbformat_minor": 0,
  "metadata": {
    "colab": {
      "provenance": [],
      "collapsed_sections": [
        "ZBLcwy5WigjO"
      ]
    },
    "kernelspec": {
      "name": "python3",
      "display_name": "Python 3"
    },
    "language_info": {
      "name": "python"
    }
  },
  "cells": [
    {
      "cell_type": "markdown",
      "source": [
        "#Theoretical\n"
      ],
      "metadata": {
        "id": "ZBLcwy5WigjO"
      }
    },
    {
      "cell_type": "markdown",
      "source": [
        "**1)What is Logistic Regression, and how does it differ from Linear Regression.**\n",
        "\n",
        "Ans:Logistic Regression is a statistical model used for binary classification problems, predicting the probability of a binary outcome. Linear Regression is used for regression problems, predicting a continuous output variable."
      ],
      "metadata": {
        "id": "YGq3jT_KWp9o"
      }
    },
    {
      "cell_type": "markdown",
      "source": [
        "**2)What is the mathematical equation of Logistic Regression.**\n",
        "\n",
        "Ans:"
      ],
      "metadata": {
        "id": "wnX6m2NpW5Xf"
      }
    },
    {
      "cell_type": "markdown",
      "source": [
        "**3)Why do we use the Sigmoid function in Logistic Regression.**\n",
        "\n",
        "Ans:The sigmoid function is used because it transforms any real-valued input into a value between 0 and 1. This allows us to interpret the output of the linear combination of features as a probability."
      ],
      "metadata": {
        "id": "rsHpPM1NmHVJ"
      }
    },
    {
      "cell_type": "markdown",
      "source": [
        "**4)What is the cost function of Logistic Regression.**\n",
        "\n",
        "Ans:A cost function is a mathematical function that calculates the difference between the target actual values and the values predicted by the model."
      ],
      "metadata": {
        "id": "5rTeJtcsm4nh"
      }
    },
    {
      "cell_type": "markdown",
      "source": [
        "**5)What is Regularization in Logistic Regression? Why is it needed.**\n",
        "\n",
        "Ans:Regularization is a technique that adds a penalty to the cost function to prevent overfitting. It is needed to create a simpler model that generalizes better to unseen data by reducing the magnitude of the model's coefficients."
      ],
      "metadata": {
        "id": "VC8JE1EFoUfw"
      }
    },
    {
      "cell_type": "markdown",
      "source": [
        "**6)Explain the difference between Lasso, Ridge, and Elastic Net regression.**\n",
        "\n",
        "Ans:Lasso (L1) adds a penalty based on the sum of absolute coefficients, potentially setting some to zero for feature selection. Ridge (L2) adds a penalty based on the sum of squared coefficients, shrinking them towards zero without necessarily making them zero. Elastic Net combines both L1 and L2 penalties."
      ],
      "metadata": {
        "id": "0peEuyfHpRcG"
      }
    },
    {
      "cell_type": "markdown",
      "source": [
        "**7)When should we use Elastic Net instead of Lasso or Ridge.**\n",
        "\n",
        "Ans:Elastic Net is useful when you have many features with correlations between them. It can perform better than Lasso in selecting variables and handles groups of correlated variables more effectively than Ridge."
      ],
      "metadata": {
        "id": "w3EPpzBapxeB"
      }
    },
    {
      "cell_type": "markdown",
      "source": [
        "**8)What is the impact of the regularization parameter (λ) in Logistic Regression.**\n",
        "\n",
        "Ans:The regularization parameter controls the strength of the regularization. A larger $\\lambda$ increases the penalty, leading to smaller coefficients and a simpler model. A smaller $\\lambda$ decreases the penalty, allowing for larger coefficients and a more complex model."
      ],
      "metadata": {
        "id": "5Xv1U896p9Tw"
      }
    },
    {
      "cell_type": "markdown",
      "source": [
        "**9)What are the key assumptions of Logistic Regression.**\n",
        "\n",
        "Ans:linearity of the log-odds with respect to the independent variables, independence of errors, and absence of strong multicollinearity among independent variables. It also generally benefits from a large sample size."
      ],
      "metadata": {
        "id": "gNJVmrUxqVWY"
      }
    },
    {
      "cell_type": "markdown",
      "source": [
        "**10)What are some alternatives to Logistic Regression for classification tasks.**\n",
        "\n",
        "Ans:Alternatives include Support Vector Machines, Decision Trees, Random Forests, Gradient Boosting Machines, K-Nearest Neighbors, Naive Bayes, and Neural Networks."
      ],
      "metadata": {
        "id": "1IQ-3e00q2Bq"
      }
    },
    {
      "cell_type": "markdown",
      "source": [
        "**11)What are Classification Evaluation Metrics.**\n",
        "\n",
        "Ans:Metrics for evaluating classification models include Accuracy, Precision, Recall, F1-Score, AUC-ROC, and Log Loss."
      ],
      "metadata": {
        "id": "pYUF2TZpzR2E"
      }
    },
    {
      "cell_type": "markdown",
      "source": [
        "**12)How does class imbalance affect Logistic Regression.**\n",
        "\n",
        "Ans:Class imbalance can lead to a model that is biased towards the majority class, resulting in poor performance on the minority class and making standard metrics like accuracy misleading."
      ],
      "metadata": {
        "id": "aEjkOiK8zPDy"
      }
    },
    {
      "cell_type": "markdown",
      "source": [
        "**13)What is Hyperparameter Tuning in Logistic Regression.**\n",
        "\n",
        "Ans:Hyperparameter tuning is the process of finding the optimal values for the model's hyperparameters to achieve the best performance, typically using techniques like Grid Search or Random Search with cross-validation."
      ],
      "metadata": {
        "id": "RsevaU943R4u"
      }
    },
    {
      "cell_type": "markdown",
      "source": [
        "**14)What are different solvers in Logistic Regression? Which one should be used.**\n",
        "\n",
        "Ans:Common solvers include liblinear, lbfgs, newton-cg, sag, and saga. The choice depends on the dataset size and regularization type. liblinear is good for small datasets and L1/L2. lbfgs and newton-cg are general-purpose for L2. sag and saga are better for large datasets."
      ],
      "metadata": {
        "id": "il9SjF2v4AC2"
      }
    },
    {
      "cell_type": "markdown",
      "source": [
        "**15)How is Logistic Regression extended for multiclass classification.**\n",
        "\n",
        "Ans:It's extended using One-vs-Rest, which trains a binary model for each class, or Softmax Regression, which trains a single model that directly predicts probabilities for all classes."
      ],
      "metadata": {
        "id": "7D6G3LC74LbN"
      }
    },
    {
      "cell_type": "markdown",
      "source": [
        "**16)What are the advantages and disadvantages of Logistic Regression.**\n",
        "\n",
        "Ans: Advantages include simplicity, efficiency, interpretability, and providing probabilities. Disadvantages include the assumption of log-odds linearity, sensitivity to multicollinearity and outliers, and limitations with highly non-linear data."
      ],
      "metadata": {
        "id": "lzQBOHvJ4gId"
      }
    },
    {
      "cell_type": "markdown",
      "source": [
        "**17)What are some use cases of Logistic Regression.**\n",
        "\n",
        "Ans:Use cases include spam detection, credit risk assessment, medical diagnosis, customer churn prediction, and image classification."
      ],
      "metadata": {
        "id": "cMKp-Y874wqO"
      }
    },
    {
      "cell_type": "markdown",
      "source": [
        "**18)What is the difference between Softmax Regression and Logistic Regression.**\n",
        "\n",
        "Ans: Logistic Regression is for binary classification, while Softmax Regression is for multiclass classification."
      ],
      "metadata": {
        "id": "RJPzo1_h44TL"
      }
    },
    {
      "cell_type": "markdown",
      "source": [
        "**19)How do we choose between One-vs-Rest (OvR) and Softmax for multiclass classification.**\n",
        "\n",
        "Ans:Softmax is generally preferred when classes are mutually exclusive. OvR can be useful when classes are not mutually exclusive, although for strictly mutually exclusive classes, Softmax is often more efficient and can perform better."
      ],
      "metadata": {
        "id": "HHtHsZHD5E5j"
      }
    },
    {
      "cell_type": "markdown",
      "source": [
        "**20)How do we interpret coefficients in Logistic Regression?**\n",
        "\n",
        "Ans:Coefficients represent the change in the log-odds of the outcome for a one-unit increase in the corresponding feature, holding other features constant. Exponentiating the coefficient gives the odds ratio, indicating the multiplicative change in odds."
      ],
      "metadata": {
        "id": "O_JJ-seb5Rre"
      }
    },
    {
      "cell_type": "markdown",
      "source": [
        "#Practical"
      ],
      "metadata": {
        "id": "vL7vwheq5eS-"
      }
    },
    {
      "cell_type": "markdown",
      "source": [
        "**1) Write a Python program that loads a dataset, splits it into training and testing sets, applies Logistic Regression, and prints the model accuracy.**"
      ],
      "metadata": {
        "id": "fgHChDHQByKC"
      }
    },
    {
      "cell_type": "code",
      "source": [
        "from sklearn.datasets import load_breast_cancer as bc\n",
        "from sklearn.model_selection import train_test_split\n",
        "from sklearn.linear_model import LogisticRegression\n",
        "from sklearn.metrics import accuracy_score\n",
        "\n",
        "data=bc()\n",
        "x=data.data\n",
        "y=data.target\n",
        "x_train,x_test,y_train,y_test=train_test_split(x,y,test_size=0.2,random_state=2)\n",
        "model=LogisticRegression(max_iter=10000)\n",
        "model.fit(x_train,y_train)\n",
        "y_pred=model.predict(x_test)\n",
        "print(\"Accuracy\",accuracy_score(y_test,y_pred))"
      ],
      "metadata": {
        "colab": {
          "base_uri": "https://localhost:8080/"
        },
        "id": "qQU7B9TVB4DX",
        "outputId": "9f086236-c73e-4e44-e2df-759d26ef160d"
      },
      "execution_count": 23,
      "outputs": [
        {
          "output_type": "stream",
          "name": "stdout",
          "text": [
            "Accuracy 0.9298245614035088\n"
          ]
        }
      ]
    },
    {
      "cell_type": "markdown",
      "source": [
        "**2)Write a Python program to apply L1 regularization (Lasso) on a dataset using LogisticRegression(penalty='l1') and print the model accuracy**"
      ],
      "metadata": {
        "id": "iKImt-yjNL8u"
      }
    },
    {
      "cell_type": "code",
      "source": [
        "modell1=LogisticRegression(penalty='l1',solver='liblinear',max_iter=10000)\n",
        "modell1.fit(x_train,y_train)\n",
        "y_pred=modell1.predict(x_test)\n",
        "print(\"L1 Accuracy\",accuracy_score(y_test,y_pred))"
      ],
      "metadata": {
        "colab": {
          "base_uri": "https://localhost:8080/"
        },
        "id": "djfRnl9PCOy6",
        "outputId": "6775f0f0-2bc9-4fa6-8f43-ee7ffca1958d"
      },
      "execution_count": 2,
      "outputs": [
        {
          "output_type": "stream",
          "name": "stdout",
          "text": [
            "L1 Accuracy 0.9385964912280702\n"
          ]
        }
      ]
    },
    {
      "cell_type": "markdown",
      "source": [
        "**3)Write a Python program to train Logistic Regression with L2 regularization (Ridge) using LogisticRegression(penalty='l2').**"
      ],
      "metadata": {
        "id": "MHd0O_4tPa80"
      }
    },
    {
      "cell_type": "code",
      "source": [
        "modell2=LogisticRegression(penalty='l2',solver='lbfgs',max_iter=10000)\n",
        "modell2.fit(x_train,y_train)\n",
        "y_pred=modell2.predict(x_test)\n",
        "print(\"L2 Accuracy\",accuracy_score(y_test,y_pred))"
      ],
      "metadata": {
        "colab": {
          "base_uri": "https://localhost:8080/"
        },
        "id": "qB9AYuQwLdi6",
        "outputId": "51e0cd6a-b762-479b-e98f-84aa5e764de0"
      },
      "execution_count": 3,
      "outputs": [
        {
          "output_type": "stream",
          "name": "stdout",
          "text": [
            "L2 Accuracy 0.9298245614035088\n"
          ]
        }
      ]
    },
    {
      "cell_type": "markdown",
      "source": [
        "**4)Write a Python program to train Logistic Regression with Elastic Net Regularization (penalty='elasticnet')**"
      ],
      "metadata": {
        "id": "3lwObwGtTiwa"
      }
    },
    {
      "cell_type": "code",
      "source": [
        "modeler=LogisticRegression(penalty='elasticnet',solver='saga',max_iter=10000,l1_ratio=0.5)\n",
        "modeler.fit(x_train,y_train)\n",
        "y_pred=modeler.predict(x_test)\n",
        "print(\"Elastic Accuracy\",accuracy_score(y_test,y_pred))"
      ],
      "metadata": {
        "colab": {
          "base_uri": "https://localhost:8080/"
        },
        "id": "lqBAes13QYZk",
        "outputId": "0387b7d2-7207-4adb-8526-42429438f381"
      },
      "execution_count": 4,
      "outputs": [
        {
          "output_type": "stream",
          "name": "stdout",
          "text": [
            "Elastic Accuracy 0.9035087719298246\n"
          ]
        }
      ]
    },
    {
      "cell_type": "markdown",
      "source": [
        "**5)Write a Python program to train a Logistic Regression model for multiclass classification using multi_class='ovr'.**"
      ],
      "metadata": {
        "id": "pGBWu79atUX0"
      }
    },
    {
      "cell_type": "code",
      "source": [
        "modelmc=LogisticRegression(multi_class='ovr',solver='lbfgs',max_iter=10000)\n",
        "modelmc.fit(x_train,y_train)\n",
        "y_pred=modelmc.predict(x_test)\n",
        "print(\"Multi_class Accuracy\",accuracy_score(y_test,y_pred))"
      ],
      "metadata": {
        "colab": {
          "base_uri": "https://localhost:8080/"
        },
        "id": "MRXEphATROkS",
        "outputId": "545ad88f-4fdc-4551-c7b2-d07bb5f879fc"
      },
      "execution_count": 5,
      "outputs": [
        {
          "output_type": "stream",
          "name": "stderr",
          "text": [
            "/usr/local/lib/python3.11/dist-packages/sklearn/linear_model/_logistic.py:1256: FutureWarning: 'multi_class' was deprecated in version 1.5 and will be removed in 1.7. Use OneVsRestClassifier(LogisticRegression(..)) instead. Leave it to its default value to avoid this warning.\n",
            "  warnings.warn(\n"
          ]
        },
        {
          "output_type": "stream",
          "name": "stdout",
          "text": [
            "Multi_class Accuracy 0.9298245614035088\n"
          ]
        }
      ]
    },
    {
      "cell_type": "markdown",
      "source": [
        "**6)Write a Python program to apply GridSearchCV to tune the hyperparameters (C and penalty) of Logistic Regression. Print the best parameters and accuracy.**"
      ],
      "metadata": {
        "id": "agn0ozJjuJ6g"
      }
    },
    {
      "cell_type": "code",
      "source": [
        "from sklearn.model_selection import GridSearchCV\n",
        "param_grid={'C':[0.1,1,10],'penalty':['l1','l2'],'solver':['liblinear']}\n",
        "grid=GridSearchCV(LogisticRegression(),param_grid,cv=5)\n",
        "grid.fit(x_train,y_train)\n",
        "print(\"Best Parameters:\",grid.best_params_)\n",
        "print(\"Best Score:\",grid.best_score_)"
      ],
      "metadata": {
        "colab": {
          "base_uri": "https://localhost:8080/"
        },
        "id": "TAQ5PC-avVOM",
        "outputId": "fa54528f-ed68-4b4c-837e-770ebe6b1017"
      },
      "execution_count": 6,
      "outputs": [
        {
          "output_type": "stream",
          "name": "stderr",
          "text": [
            "/usr/local/lib/python3.11/dist-packages/sklearn/svm/_base.py:1249: ConvergenceWarning: Liblinear failed to converge, increase the number of iterations.\n",
            "  warnings.warn(\n",
            "/usr/local/lib/python3.11/dist-packages/sklearn/svm/_base.py:1249: ConvergenceWarning: Liblinear failed to converge, increase the number of iterations.\n",
            "  warnings.warn(\n",
            "/usr/local/lib/python3.11/dist-packages/sklearn/svm/_base.py:1249: ConvergenceWarning: Liblinear failed to converge, increase the number of iterations.\n",
            "  warnings.warn(\n",
            "/usr/local/lib/python3.11/dist-packages/sklearn/svm/_base.py:1249: ConvergenceWarning: Liblinear failed to converge, increase the number of iterations.\n",
            "  warnings.warn(\n",
            "/usr/local/lib/python3.11/dist-packages/sklearn/svm/_base.py:1249: ConvergenceWarning: Liblinear failed to converge, increase the number of iterations.\n",
            "  warnings.warn(\n"
          ]
        },
        {
          "output_type": "stream",
          "name": "stdout",
          "text": [
            "Best Parameters: {'C': 10, 'penalty': 'l1', 'solver': 'liblinear'}\n",
            "Best Score: 0.956043956043956\n"
          ]
        }
      ]
    },
    {
      "cell_type": "markdown",
      "source": [
        "**7)Write a Python program to evaluate Logistic Regression using Stratified K-Fold Cross-Validation. Print the average accuracy.**"
      ],
      "metadata": {
        "id": "IT_PxNnwxg8E"
      }
    },
    {
      "cell_type": "code",
      "source": [
        "from sklearn.model_selection import StratifiedKFold,cross_val_score\n",
        "cv=StratifiedKFold(n_splits=5)\n",
        "scores=cross_val_score(model,x,y,cv=cv,scoring='accuracy')\n",
        "print(scores.mean())"
      ],
      "metadata": {
        "colab": {
          "base_uri": "https://localhost:8080/"
        },
        "id": "654Ernf2xs57",
        "outputId": "142e7cbe-c760-4a21-91e7-70d7a31c9543"
      },
      "execution_count": 9,
      "outputs": [
        {
          "output_type": "stream",
          "name": "stdout",
          "text": [
            "0.9507995652848935\n"
          ]
        }
      ]
    },
    {
      "cell_type": "markdown",
      "source": [
        "**8)Write a Python program to load a dataset from a CSV file, apply Logistic Regression, and evaluate its accuracy.**"
      ],
      "metadata": {
        "id": "hmii_uqVzxHr"
      }
    },
    {
      "cell_type": "code",
      "source": [
        "import pandas as pd\n",
        "from sklearn.model_selection import train_test_split\n",
        "from sklearn.linear_model import LogisticRegression\n",
        "from sklearn.metrics import accuracy_score\n",
        "import numpy as np\n",
        "\n",
        "data = {'feature1': np.random.rand(50), 'feature2': np.random.rand(50), 'target': np.random.randint(0, 2, 50)}\n",
        "df = pd.DataFrame(data)\n",
        "X = df[['feature1', 'feature2']]\n",
        "y = df['target']\n",
        "X_train, X_test, y_train, y_test = train_test_split(X, y, test_size=0.3, random_state=42)\n",
        "model = LogisticRegression()\n",
        "model.fit(X_train, y_train)\n",
        "y_pred = model.predict(X_test)\n",
        "accuracy = accuracy_score(y_test, y_pred)\n",
        "print(\"Accuracy:\", accuracy)"
      ],
      "metadata": {
        "colab": {
          "base_uri": "https://localhost:8080/"
        },
        "id": "9skiAsLosrnC",
        "outputId": "914216a7-add4-41a9-9faf-950debce85d2"
      },
      "execution_count": 21,
      "outputs": [
        {
          "output_type": "stream",
          "name": "stdout",
          "text": [
            "Accuracy: 0.3333333333333333\n"
          ]
        }
      ]
    },
    {
      "cell_type": "markdown",
      "source": [
        "**9)Write a Python program to apply RandomizedSearchCV for tuning hyperparameters (C, penalty, solver) in Logistic Regression. Print the best parameters and accuracy.**"
      ],
      "metadata": {
        "id": "hoDxgZKI0PaA"
      }
    },
    {
      "cell_type": "code",
      "source": [
        "from sklearn.model_selection import RandomizedSearchCV\n",
        "param_dist={'C':[0.1,1,10],'penalty':['l1','l2'],'solver':['liblinear']}\n",
        "random_search = RandomizedSearchCV(LogisticRegression(max_iter=10000), param_distributions=param_dist, n_iter=5, cv=5)\n",
        "random_search.fit(x_train,y_train)\n",
        "print(\"Best Parameters:\",random_search.best_params_)\n",
        "print(\"Best Score:\",random_search.best_score_)"
      ],
      "metadata": {
        "colab": {
          "base_uri": "https://localhost:8080/"
        },
        "id": "ouQ7cII00YlN",
        "outputId": "8537bf9a-90fb-498e-afe0-8e99aba89454"
      },
      "execution_count": 10,
      "outputs": [
        {
          "output_type": "stream",
          "name": "stdout",
          "text": [
            "Best Parameters: {'solver': 'liblinear', 'penalty': 'l1', 'C': 10}\n",
            "Best Score: 0.956043956043956\n"
          ]
        }
      ]
    },
    {
      "cell_type": "markdown",
      "source": [
        "**10)Write a Python program to implement One-vs-One (OvO) Multiclass Logistic Regression and print accuracy.**"
      ],
      "metadata": {
        "id": "XzSgMFNW2liw"
      }
    },
    {
      "cell_type": "code",
      "source": [
        "from sklearn.multiclass import OneVsOneClassifier\n",
        "modelovo = OneVsOneClassifier(LogisticRegression(random_state=42,max_iter=10000))\n",
        "modelovo.fit(x_train, y_train)\n",
        "print(\"OvO Accuracy:\", accuracy_score(y_test, modelovo.predict(x_test)))"
      ],
      "metadata": {
        "colab": {
          "base_uri": "https://localhost:8080/"
        },
        "id": "_lCT9XJb15cg",
        "outputId": "4ae8356e-4888-4737-b47a-c22f009de8eb"
      },
      "execution_count": 11,
      "outputs": [
        {
          "output_type": "stream",
          "name": "stdout",
          "text": [
            "OvO Accuracy: 0.9298245614035088\n"
          ]
        }
      ]
    },
    {
      "cell_type": "markdown",
      "source": [
        "**11)Write a Python program to train a Logistic Regression model and visualize the confusion matrix for binary classification.**"
      ],
      "metadata": {
        "id": "yaFJe2Tl7_QN"
      }
    },
    {
      "cell_type": "code",
      "source": [
        "import matplotlib.pyplot as plt\n",
        "from sklearn.metrics import confusion_matrix,ConfusionMatrixDisplay\n",
        "cm=confusion_matrix(y_test,y_pred)\n",
        "disp=ConfusionMatrixDisplay(confusion_matrix=cm)\n",
        "disp.plot()\n",
        "plt.show()"
      ],
      "metadata": {
        "colab": {
          "base_uri": "https://localhost:8080/",
          "height": 449
        },
        "id": "QfUEbff78juP",
        "outputId": "0b708baa-e361-4c7c-ae2e-3bf69bf740a1"
      },
      "execution_count": 12,
      "outputs": [
        {
          "output_type": "display_data",
          "data": {
            "text/plain": [
              "<Figure size 640x480 with 2 Axes>"
            ],
            "image/png": "[encoded data removed]"
          },
          "metadata": {}
        }
      ]
    },
    {
      "cell_type": "markdown",
      "source": [
        "**12)Write a Python program to train a Logistic Regression model and evaluate its performance using Precision, Recall, and F1-Score.**"
      ],
      "metadata": {
        "id": "7-WwK-QRCF8O"
      }
    },
    {
      "cell_type": "code",
      "source": [
        "from sklearn.metrics import precision_score, recall_score, f1_score\n",
        "\n",
        "print(\"Precision:\", precision_score(y_test, y_pred))\n",
        "print(\"Recall:\", recall_score(y_test, y_pred))\n",
        "print(\"F1 Score:\", f1_score(y_test, y_pred))"
      ],
      "metadata": {
        "colab": {
          "base_uri": "https://localhost:8080/"
        },
        "id": "rcdW1Fsb_UD_",
        "outputId": "6769af19-c032-4b3f-9969-c928fce18834"
      },
      "execution_count": 13,
      "outputs": [
        {
          "output_type": "stream",
          "name": "stdout",
          "text": [
            "Precision: 0.9420289855072463\n",
            "Recall: 0.9420289855072463\n",
            "F1 Score: 0.9420289855072463\n"
          ]
        }
      ]
    },
    {
      "cell_type": "markdown",
      "source": [
        "**13)Write a Python program to train a Logistic Regression model on imbalanced data and apply class weights to improve model performance.**"
      ],
      "metadata": {
        "id": "RnwTHKlCDu7N"
      }
    },
    {
      "cell_type": "code",
      "source": [
        "model_weighted = LogisticRegression(class_weight='balanced',max_iter=10000)\n",
        "model_weighted.fit(x_train, y_train)\n",
        "print(\"Weighted Model Accuracy:\", accuracy_score(y_test, model_weighted.predict(x_test)))"
      ],
      "metadata": {
        "colab": {
          "base_uri": "https://localhost:8080/"
        },
        "id": "VrXz7co9CkTW",
        "outputId": "61b7053b-f2f1-4a5d-c1d1-12b3265ccd8a"
      },
      "execution_count": 14,
      "outputs": [
        {
          "output_type": "stream",
          "name": "stdout",
          "text": [
            "Weighted Model Accuracy: 0.9385964912280702\n"
          ]
        }
      ]
    },
    {
      "cell_type": "markdown",
      "source": [
        "\n",
        "**15)Write a Python program to apply feature scaling (Standardization) before training a Logistic Regression model. Evaluate its accuracy and compare results with and without scaling.**"
      ],
      "metadata": {
        "id": "vOkopA_6Hz5u"
      }
    },
    {
      "cell_type": "code",
      "source": [
        "from sklearn.preprocessing import StandardScaler\n",
        "scaler=StandardScaler()\n",
        "x_train_scale=scaler.fit_transform(x_train)\n",
        "x_test_scale=scaler.transform(x_test)\n",
        "model.fit(x_train_scale,y_train)\n",
        "print(\"Standardized Model Accuracy:\", accuracy_score(y_test, model.predict(x_test_scale)))"
      ],
      "metadata": {
        "colab": {
          "base_uri": "https://localhost:8080/"
        },
        "id": "Et8alLT-Idpw",
        "outputId": "8a6d76c3-f406-4bfe-a387-6247005963be"
      },
      "execution_count": 15,
      "outputs": [
        {
          "output_type": "stream",
          "name": "stdout",
          "text": [
            "Standardized Model Accuracy: 0.9736842105263158\n"
          ]
        }
      ]
    },
    {
      "cell_type": "markdown",
      "source": [
        "**16)Write a Python program to train Logistic Regression and evaluate its performance using ROC-AUC score.**"
      ],
      "metadata": {
        "id": "pIKwFlMtM-Eb"
      }
    },
    {
      "cell_type": "code",
      "source": [
        "from sklearn.metrics import roc_auc_score\n",
        "\n",
        "print(\"ROC-AUC Score:\", roc_auc_score(y_test, model.predict_proba(x_test)[:,1]))"
      ],
      "metadata": {
        "colab": {
          "base_uri": "https://localhost:8080/"
        },
        "id": "eWQYxMyNK6eN",
        "outputId": "ffa256e1-a6cf-48d2-c8bc-f16562e8e39a"
      },
      "execution_count": 16,
      "outputs": [
        {
          "output_type": "stream",
          "name": "stdout",
          "text": [
            "ROC-AUC Score: 0.5434782608695652\n"
          ]
        }
      ]
    },
    {
      "cell_type": "markdown",
      "source": [
        "**17)Write a Python program to train Logistic Regression using a custom regularization strength (C=0.5) and evaluate accuracy.**"
      ],
      "metadata": {
        "id": "p7W7B3EANYlu"
      }
    },
    {
      "cell_type": "code",
      "source": [
        "modelc = LogisticRegression(C=0.5, max_iter=10000)\n",
        "modelc.fit(x_train, y_train)\n",
        "print(\"Custom Regularization Model Accuracy:\", accuracy_score(y_test, modelc.predict(x_test)))"
      ],
      "metadata": {
        "colab": {
          "base_uri": "https://localhost:8080/"
        },
        "id": "tOKGfj8JNUww",
        "outputId": "41c17f09-4e62-44a7-ce98-02e307020c3e"
      },
      "execution_count": 17,
      "outputs": [
        {
          "output_type": "stream",
          "name": "stdout",
          "text": [
            "Custom Regularization Model Accuracy: 0.9298245614035088\n"
          ]
        }
      ]
    },
    {
      "cell_type": "markdown",
      "source": [
        "**18)Write a Python program to train Logistic Regression and identify important features based on model coefficients.**"
      ],
      "metadata": {
        "id": "kvqbNHg8OUBB"
      }
    },
    {
      "cell_type": "code",
      "source": [
        "import numpy as np\n",
        "\n",
        "coefs = np.abs(model.coef_)\n",
        "important_features = np.argsort(coefs[0])\n",
        "print(\"Important Features:\", important_features)"
      ],
      "metadata": {
        "colab": {
          "base_uri": "https://localhost:8080/"
        },
        "id": "6bXXKK3BNxjQ",
        "outputId": "f0e81168-0121-416a-d65d-26dde4b8c8a5"
      },
      "execution_count": 18,
      "outputs": [
        {
          "output_type": "stream",
          "name": "stdout",
          "text": [
            "Important Features: [16 25 11  8  4 17 14  1 18  9  2 29  0  5  3 15  6 28 12 27 19 26 22 24\n",
            " 13  7 23 20 21 10]\n"
          ]
        }
      ]
    },
    {
      "cell_type": "markdown",
      "source": [
        "**19)Write a Python program to train Logistic Regression and evaluate its performance using Cohen’s Kappa Score.**"
      ],
      "metadata": {
        "id": "XpPZZhmDOy4y"
      }
    },
    {
      "cell_type": "code",
      "source": [
        "from sklearn.metrics import cohen_kappa_score\n",
        "print(\"Cohen’s Kappa Score:\", cohen_kappa_score(y_test, y_pred))"
      ],
      "metadata": {
        "colab": {
          "base_uri": "https://localhost:8080/"
        },
        "id": "vR7kqcH1Ol71",
        "outputId": "7e116cc5-2090-4f21-b071-0cef397708ae"
      },
      "execution_count": 19,
      "outputs": [
        {
          "output_type": "stream",
          "name": "stdout",
          "text": [
            "Cohen’s Kappa Score: 0.8531400966183575\n"
          ]
        }
      ]
    },
    {
      "cell_type": "markdown",
      "source": [
        "**20)Write a Python program to train Logistic Regression and visualize the Precision-Recall Curve for binary classification.**"
      ],
      "metadata": {
        "id": "FNG36Is1POBj"
      }
    },
    {
      "cell_type": "code",
      "source": [
        "\n",
        "from sklearn.metrics import precision_recall_curve\n",
        "y_pred=model.predict(x_test)\n",
        "precision, recall, _ = precision_recall_curve(y_test,y_pred)\n",
        "\n",
        "plt.plot(recall, precision)\n",
        "plt.xlabel(\"Recall\")\n",
        "plt.ylabel(\"Precision\")\n",
        "plt.title(\"Precision-Recall Curve\")\n",
        "plt.show()"
      ],
      "metadata": {
        "colab": {
          "base_uri": "https://localhost:8080/",
          "height": 472
        },
        "id": "6D1B_vVsPGHK",
        "outputId": "7f50cc36-3e5e-4733-a348-ebbc1cddb1c2"
      },
      "execution_count": 20,
      "outputs": [
        {
          "output_type": "display_data",
          "data": {
            "text/plain": [
              "<Figure size 640x480 with 1 Axes>"
            ],
            "image/png": "[encoded data removed]"
          },
          "metadata": {}
        }
      ]
    },
    {
      "cell_type": "markdown",
      "source": [
        "**21)Write a Python program to train Logistic Regression with different solvers (liblinear, saga, lbfgs) and compare their accuracy.**"
      ],
      "metadata": {
        "id": "V2zWa41XRMDA"
      }
    },
    {
      "cell_type": "code",
      "source": [
        "solvers = ['liblinear', 'saga', 'lbfgs']\n",
        "for solver in solvers:\n",
        "    model_solver = LogisticRegression(solver=solver,max_iter=10000)\n",
        "    model_solver.fit(x_train, y_train)\n",
        "    print(f\"Solver: {solver}, Accuracy: {accuracy_score(y_test, model_solver.predict(x_test))}\")"
      ],
      "metadata": {
        "colab": {
          "base_uri": "https://localhost:8080/"
        },
        "id": "RcYctozoQVbz",
        "outputId": "b3b42bc6-32f4-474b-bdc9-f0a7111a8cb0"
      },
      "execution_count": 24,
      "outputs": [
        {
          "output_type": "stream",
          "name": "stdout",
          "text": [
            "Solver: liblinear, Accuracy: 0.9385964912280702\n",
            "Solver: saga, Accuracy: 0.9035087719298246\n",
            "Solver: lbfgs, Accuracy: 0.9298245614035088\n"
          ]
        }
      ]
    },
    {
      "cell_type": "markdown",
      "source": [
        "**22)Write a Python program to train Logistic Regression and evaluate its performance using Matthews Correlation Coefficient (MCC).**"
      ],
      "metadata": {
        "id": "_dPUN_3eSr5I"
      }
    },
    {
      "cell_type": "code",
      "source": [
        "from sklearn.metrics import matthews_corrcoef\n",
        "solvers = ['liblinear', 'saga', 'lbfgs']\n",
        "for solver in solvers:\n",
        "    models = LogisticRegression(solver=solver, max_iter=10000)\n",
        "    models.fit(x_train, y_train)\n",
        "    mcc = matthews_corrcoef(y_test, models.predict(x_test))\n",
        "    print(f\"Solver: {solver}, MCC: {mcc}\")"
      ],
      "metadata": {
        "colab": {
          "base_uri": "https://localhost:8080/"
        },
        "id": "q5Eo8l1cSeWN",
        "outputId": "2c5c31ec-5e39-4e75-ba68-03615a1a035a"
      },
      "execution_count": 25,
      "outputs": [
        {
          "output_type": "stream",
          "name": "stdout",
          "text": [
            "Solver: liblinear, MCC: 0.8721381372818764\n",
            "Solver: saga, MCC: 0.7989786467372598\n",
            "Solver: lbfgs, MCC: 0.8531400966183574\n"
          ]
        }
      ]
    },
    {
      "cell_type": "markdown",
      "source": [
        "**23)Write a Python program to train Logistic Regression on both raw and standardized data. Compare their accuracy to see the impact of feature scaling.**"
      ],
      "metadata": {
        "id": "-Np1KDVgUARq"
      }
    },
    {
      "cell_type": "code",
      "source": [
        "model.fit(x_train, y_train)\n",
        "acc = accuracy_score(y_test, model.predict(x_test))\n",
        "scaler = StandardScaler()\n",
        "xtrainscaled = scaler.fit_transform(x_train)\n",
        "xtestscaled = scaler.transform(x_test)\n",
        "\n",
        "model.fit(xtrainscaled, y_train)\n",
        "scaled = accuracy_score(y_test, model.predict(xtestscaled))\n",
        "\n",
        "print(\"Accuracy without Scaling:\", acc)\n",
        "print(\"Accuracy with Scaling:\", scaled)\n"
      ],
      "metadata": {
        "colab": {
          "base_uri": "https://localhost:8080/"
        },
        "id": "8hLvujfITk92",
        "outputId": "e36d78cf-4ea2-4c33-e4c6-efc2a5b41d93"
      },
      "execution_count": 26,
      "outputs": [
        {
          "output_type": "stream",
          "name": "stdout",
          "text": [
            "Accuracy without Scaling: 0.9298245614035088\n",
            "Accuracy with Scaling: 0.9736842105263158\n"
          ]
        }
      ]
    },
    {
      "cell_type": "markdown",
      "source": [
        "**24)Write a Python program to train Logistic Regression and find the optimal C (regularization strength) using cross-validation.**"
      ],
      "metadata": {
        "id": "uPrROOnJVEp4"
      }
    },
    {
      "cell_type": "code",
      "source": [
        "from sklearn.model_selection import cross_val_score\n",
        "\n",
        "C_values = [0.01, 0.1, 1, 10, 100]\n",
        "best_score = 0\n",
        "best_C = None\n",
        "\n",
        "for C in C_values:\n",
        "    model_C = LogisticRegression(C=C,max_iter=20000, solver='lbfgs')\n",
        "    scores = cross_val_score(model_C, x, y, cv=5)\n",
        "    mean_score = scores.mean()\n",
        "\n",
        "    if mean_score > best_score:\n",
        "        best_score = mean_score\n",
        "        best_C = C\n",
        "print(f\"Best C: {best_C} with Accuracy: {best_score}\")"
      ],
      "metadata": {
        "colab": {
          "base_uri": "https://localhost:8080/"
        },
        "id": "oBRYzy-iU8Bs",
        "outputId": "4967513f-2c4e-49fd-fff0-669103982710"
      },
      "execution_count": 27,
      "outputs": [
        {
          "output_type": "stream",
          "name": "stdout",
          "text": [
            "Best C: 100 with Accuracy: 0.9613569321533924\n"
          ]
        }
      ]
    },
    {
      "cell_type": "markdown",
      "source": [
        "**25)Write a Python program to train Logistic Regression, save the trained model using joblib, and load it again to make predictions.**"
      ],
      "metadata": {
        "id": "rt_pqNH0WzxF"
      }
    },
    {
      "cell_type": "code",
      "source": [
        "import joblib\n",
        "joblib.dump(modelc, \"logistic_model.pkl\")\n",
        "loaded_model = joblib.load(\"logistic_model.pkl\")\n",
        "print(\"Loaded Model Accuracy:\", accuracy_score(y_test, loaded_model.predict(x_test)))"
      ],
      "metadata": {
        "colab": {
          "base_uri": "https://localhost:8080/"
        },
        "id": "nSS-_7XsVcyR",
        "outputId": "2d606f37-fcc0-4f00-a37c-e0291ccd792b"
      },
      "execution_count": 28,
      "outputs": [
        {
          "output_type": "stream",
          "name": "stdout",
          "text": [
            "Loaded Model Accuracy: 0.9298245614035088\n"
          ]
        }
      ]
    }
  ]
}